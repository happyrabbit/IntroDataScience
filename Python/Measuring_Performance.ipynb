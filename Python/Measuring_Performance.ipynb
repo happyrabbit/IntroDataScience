{
  "nbformat": 4,
  "nbformat_minor": 0,
  "metadata": {
    "colab": {
      "name": "Measuring_Performance.ipynb",
      "provenance": [],
      "authorship_tag": "ABX9TyMfk90DOZI12EXrtPNN/ot3",
      "include_colab_link": true
    },
    "kernelspec": {
      "name": "python3",
      "display_name": "Python 3"
    }
  },
  "cells": [
    {
      "cell_type": "markdown",
      "metadata": {
        "id": "view-in-github",
        "colab_type": "text"
      },
      "source": [
        "<a href=\"https://colab.research.google.com/github/happyrabbit/IntroDataScience/blob/master/Python/Measuring_Performance.ipynb\" target=\"_parent\"><img src=\"https://colab.research.google.com/assets/colab-badge.svg\" alt=\"Open In Colab\"/></a>"
      ]
    },
    {
      "cell_type": "code",
      "metadata": {
        "id": "vyiqM3HqVjLM"
      },
      "source": [
        "import numpy as np\n",
        "import pandas as pd\n",
        "import matplotlib.pyplot as plt\n",
        "from sklearn.linear_model import LinearRegression\n",
        "from plotnine import *\n",
        "import sklearn.metrics as metrics\n",
        "import math\n",
        "from sklearn.ensemble import RandomForestClassifier\n",
        "from sklearn.model_selection import train_test_split"
      ],
      "execution_count": 1,
      "outputs": []
    },
    {
      "cell_type": "markdown",
      "metadata": {
        "id": "1umeJofzJflp"
      },
      "source": [
        "# Regression Model Performance"
      ]
    },
    {
      "cell_type": "code",
      "metadata": {
        "id": "-gIHHiYEWGva",
        "outputId": "c35339f9-56c4-43c2-f242-385b4462df57",
        "colab": {
          "base_uri": "https://localhost:8080/",
          "height": 204
        }
      },
      "source": [
        "# load data\n",
        "sim_dat = pd.read_csv(\"http://bit.ly/2P5gTw4\")\n",
        "sim_dat.head()\n"
      ],
      "execution_count": 2,
      "outputs": [
        {
          "output_type": "execute_result",
          "data": {
            "text/html": [
              "<div>\n",
              "<style scoped>\n",
              "    .dataframe tbody tr th:only-of-type {\n",
              "        vertical-align: middle;\n",
              "    }\n",
              "\n",
              "    .dataframe tbody tr th {\n",
              "        vertical-align: top;\n",
              "    }\n",
              "\n",
              "    .dataframe thead th {\n",
              "        text-align: right;\n",
              "    }\n",
              "</style>\n",
              "<table border=\"1\" class=\"dataframe\">\n",
              "  <thead>\n",
              "    <tr style=\"text-align: right;\">\n",
              "      <th></th>\n",
              "      <th>age</th>\n",
              "      <th>gender</th>\n",
              "      <th>income</th>\n",
              "      <th>house</th>\n",
              "      <th>store_exp</th>\n",
              "      <th>online_exp</th>\n",
              "      <th>store_trans</th>\n",
              "      <th>online_trans</th>\n",
              "      <th>Q1</th>\n",
              "      <th>Q2</th>\n",
              "      <th>Q3</th>\n",
              "      <th>Q4</th>\n",
              "      <th>Q5</th>\n",
              "      <th>Q6</th>\n",
              "      <th>Q7</th>\n",
              "      <th>Q8</th>\n",
              "      <th>Q9</th>\n",
              "      <th>Q10</th>\n",
              "      <th>segment</th>\n",
              "    </tr>\n",
              "  </thead>\n",
              "  <tbody>\n",
              "    <tr>\n",
              "      <th>0</th>\n",
              "      <td>57</td>\n",
              "      <td>Female</td>\n",
              "      <td>120963.400958</td>\n",
              "      <td>Yes</td>\n",
              "      <td>529.134363</td>\n",
              "      <td>303.512475</td>\n",
              "      <td>2</td>\n",
              "      <td>2</td>\n",
              "      <td>4</td>\n",
              "      <td>2</td>\n",
              "      <td>1</td>\n",
              "      <td>2</td>\n",
              "      <td>1</td>\n",
              "      <td>4</td>\n",
              "      <td>1</td>\n",
              "      <td>4</td>\n",
              "      <td>2</td>\n",
              "      <td>4</td>\n",
              "      <td>Price</td>\n",
              "    </tr>\n",
              "    <tr>\n",
              "      <th>1</th>\n",
              "      <td>63</td>\n",
              "      <td>Female</td>\n",
              "      <td>122008.104950</td>\n",
              "      <td>Yes</td>\n",
              "      <td>478.005781</td>\n",
              "      <td>109.529710</td>\n",
              "      <td>4</td>\n",
              "      <td>2</td>\n",
              "      <td>4</td>\n",
              "      <td>1</td>\n",
              "      <td>1</td>\n",
              "      <td>2</td>\n",
              "      <td>1</td>\n",
              "      <td>4</td>\n",
              "      <td>1</td>\n",
              "      <td>4</td>\n",
              "      <td>1</td>\n",
              "      <td>4</td>\n",
              "      <td>Price</td>\n",
              "    </tr>\n",
              "    <tr>\n",
              "      <th>2</th>\n",
              "      <td>59</td>\n",
              "      <td>Male</td>\n",
              "      <td>114202.295294</td>\n",
              "      <td>Yes</td>\n",
              "      <td>490.810731</td>\n",
              "      <td>279.249582</td>\n",
              "      <td>7</td>\n",
              "      <td>2</td>\n",
              "      <td>5</td>\n",
              "      <td>2</td>\n",
              "      <td>1</td>\n",
              "      <td>2</td>\n",
              "      <td>1</td>\n",
              "      <td>4</td>\n",
              "      <td>1</td>\n",
              "      <td>4</td>\n",
              "      <td>1</td>\n",
              "      <td>4</td>\n",
              "      <td>Price</td>\n",
              "    </tr>\n",
              "    <tr>\n",
              "      <th>3</th>\n",
              "      <td>60</td>\n",
              "      <td>Male</td>\n",
              "      <td>113616.337078</td>\n",
              "      <td>Yes</td>\n",
              "      <td>347.809004</td>\n",
              "      <td>141.669752</td>\n",
              "      <td>10</td>\n",
              "      <td>2</td>\n",
              "      <td>5</td>\n",
              "      <td>2</td>\n",
              "      <td>1</td>\n",
              "      <td>3</td>\n",
              "      <td>1</td>\n",
              "      <td>4</td>\n",
              "      <td>1</td>\n",
              "      <td>4</td>\n",
              "      <td>2</td>\n",
              "      <td>4</td>\n",
              "      <td>Price</td>\n",
              "    </tr>\n",
              "    <tr>\n",
              "      <th>4</th>\n",
              "      <td>51</td>\n",
              "      <td>Male</td>\n",
              "      <td>124252.552787</td>\n",
              "      <td>Yes</td>\n",
              "      <td>379.625940</td>\n",
              "      <td>112.237177</td>\n",
              "      <td>4</td>\n",
              "      <td>4</td>\n",
              "      <td>4</td>\n",
              "      <td>1</td>\n",
              "      <td>1</td>\n",
              "      <td>3</td>\n",
              "      <td>1</td>\n",
              "      <td>4</td>\n",
              "      <td>1</td>\n",
              "      <td>4</td>\n",
              "      <td>2</td>\n",
              "      <td>4</td>\n",
              "      <td>Price</td>\n",
              "    </tr>\n",
              "  </tbody>\n",
              "</table>\n",
              "</div>"
            ],
            "text/plain": [
              "   age  gender         income house   store_exp  ...  Q7  Q8  Q9  Q10  segment\n",
              "0   57  Female  120963.400958   Yes  529.134363  ...   1   4   2    4    Price\n",
              "1   63  Female  122008.104950   Yes  478.005781  ...   1   4   1    4    Price\n",
              "2   59    Male  114202.295294   Yes  490.810731  ...   1   4   1    4    Price\n",
              "3   60    Male  113616.337078   Yes  347.809004  ...   1   4   2    4    Price\n",
              "4   51    Male  124252.552787   Yes  379.625940  ...   1   4   2    4    Price\n",
              "\n",
              "[5 rows x 19 columns]"
            ]
          },
          "metadata": {
            "tags": []
          },
          "execution_count": 2
        }
      ]
    },
    {
      "cell_type": "code",
      "metadata": {
        "id": "lBgJYFWk7wyU"
      },
      "source": [
        "# clean data\n",
        "sim_dat = sim_dat[~sim_dat.income.isnull()]\n",
        "sim_dat = sim_dat[sim_dat.store_exp >0]\n",
        "x = sim_dat.loc[:, ['store_exp', 'online_exp', 'store_trans', 'online_trans']]\n",
        "y = sim_dat.income"
      ],
      "execution_count": 3,
      "outputs": []
    },
    {
      "cell_type": "code",
      "metadata": {
        "id": "MUaUzMTM-Y4z"
      },
      "source": [
        "from sklearn.linear_model import LinearRegression"
      ],
      "execution_count": 4,
      "outputs": []
    },
    {
      "cell_type": "code",
      "metadata": {
        "id": "3xq1WnAc-cD3"
      },
      "source": [
        "reg = LinearRegression().fit(x, y)\n",
        "yhat = reg.predict(x)"
      ],
      "execution_count": 5,
      "outputs": []
    },
    {
      "cell_type": "markdown",
      "metadata": {
        "id": "UXI3jPrZAGOL"
      },
      "source": [
        "We can use `score` to get $R^2$:"
      ]
    },
    {
      "cell_type": "code",
      "metadata": {
        "id": "DqP2qh-uAOI_",
        "outputId": "d6ab6546-2069-4580-85bb-cb43fcb43afd",
        "colab": {
          "base_uri": "https://localhost:8080/"
        }
      },
      "source": [
        "reg.score(x, y)"
      ],
      "execution_count": 6,
      "outputs": [
        {
          "output_type": "execute_result",
          "data": {
            "text/plain": [
              "0.601569798163644"
            ]
          },
          "metadata": {
            "tags": []
          },
          "execution_count": 6
        }
      ]
    },
    {
      "cell_type": "markdown",
      "metadata": {
        "id": "aYTHhP_dHiZC"
      },
      "source": [
        "It is not difficult to calculate MSE, RMSE, $R^2$,  and adjusted-$R^2$"
      ]
    },
    {
      "cell_type": "code",
      "metadata": {
        "id": "5o4Hput9HD5i",
        "outputId": "ab12b6d3-7502-4d7b-c673-faaf695c629e",
        "colab": {
          "base_uri": "https://localhost:8080/"
        }
      },
      "source": [
        "SS_Residual = sum((y-yhat)**2)  \n",
        "MSE = ((y-yhat)**2).mean()    \n",
        "RMSE = math.sqrt(MSE)\n",
        "SS_Total = sum((y-np.mean(y))**2)     \n",
        "r_squared = 1 - (float(SS_Residual))/SS_Total\n",
        "adjusted_r_squared = 1 - (1-r_squared)*(len(y)-1)/(len(y)-len(x.columns)-1)\n",
        "\n",
        "print (MSE, RMSE, r_squared, adjusted_r_squared)"
      ],
      "execution_count": 7,
      "outputs": [
        {
          "output_type": "stream",
          "text": [
            "989264153.9923203 31452.56991077709 0.6015697981636442 0.599602241611366\n"
          ],
          "name": "stdout"
        }
      ]
    },
    {
      "cell_type": "markdown",
      "metadata": {
        "id": "RjFOR71OJX_d"
      },
      "source": [
        "# Classification Model Performance\n",
        "\n",
        "Let's build a random forest classifier as an example to calculate different model performance measures."
      ]
    },
    {
      "cell_type": "code",
      "metadata": {
        "id": "jDwdK7_hJn7Q",
        "outputId": "c0186f75-603f-4d57-afb3-e6463b11ba22",
        "colab": {
          "base_uri": "https://localhost:8080/"
        }
      },
      "source": [
        "# load data\n",
        "sim_dat = pd.read_csv(\"http://bit.ly/2P5gTw4\")\n",
        "sim_dat.head()\n",
        "train, test = train_test_split(sim_dat, test_size = 0.2, stratify = sim_dat.gender)\n",
        "\n",
        "# set random seed to make sure reproducibility\n",
        "np.random.seed(3456)\n",
        "\n",
        "# initialize the model\n",
        "rf = RandomForestClassifier(n_estimators = 500, max_features = 4)\n",
        "train_x = train.filter(regex = \"^Q\")\n",
        "train_y = pd.get_dummies(train, columns = ['gender']).gender_Female \n",
        "\n",
        "test_x = test.filter(regex = \"^Q\")\n",
        "test_y = pd.get_dummies(test, columns = ['gender']).gender_Female\n",
        "rf_fit = rf.fit(train_x, train_y)\n",
        "pred_y = rf_fit.predict(test_x)\n",
        "pred_prob = rf_fit.predict_proba(test_x)\n",
        "\n",
        "# check some of the predictions\n",
        "# we have two types of predictions here\n",
        "# pred_y: predicted response, 1: Female, 0: Male\n",
        "# pred_prob: indicate the probability that the sample is 1-Female/0-Male\n",
        "\n",
        "pred_y[:5]\n",
        "pred_prob[:5]"
      ],
      "execution_count": 8,
      "outputs": [
        {
          "output_type": "execute_result",
          "data": {
            "text/plain": [
              "array([[0.44348668, 0.55651332],\n",
              "       [0.67152381, 0.32847619],\n",
              "       [0.68884731, 0.31115269],\n",
              "       [0.66308283, 0.33691717],\n",
              "       [0.59063889, 0.40936111]])"
            ]
          },
          "metadata": {
            "tags": []
          },
          "execution_count": 8
        }
      ]
    },
    {
      "cell_type": "markdown",
      "metadata": {
        "id": "g6XNBPhROgvY"
      },
      "source": [
        "Confusion Matrix"
      ]
    },
    {
      "cell_type": "code",
      "metadata": {
        "id": "VFM0lIcjO35a",
        "outputId": "1613295c-c818-4a4a-d6e0-f24f78ba5de6",
        "colab": {
          "base_uri": "https://localhost:8080/"
        }
      },
      "source": [
        "# we need to use pred_y to calculate confusion matrix\n",
        "tn, fp, fn, tp = metrics.confusion_matrix(test_y, pred_y).ravel()\n",
        "(tn, fp, fn, tp)"
      ],
      "execution_count": 9,
      "outputs": [
        {
          "output_type": "execute_result",
          "data": {
            "text/plain": [
              "(65, 24, 41, 70)"
            ]
          },
          "metadata": {
            "tags": []
          },
          "execution_count": 9
        }
      ]
    },
    {
      "cell_type": "markdown",
      "metadata": {
        "id": "n5fMBWFgPYIL"
      },
      "source": [
        "Kappa Statistic\n",
        "\n"
      ]
    },
    {
      "cell_type": "code",
      "metadata": {
        "id": "r_psN8LsOh64",
        "outputId": "9573382e-fbf2-4ada-ec62-1a4c0d2fa991",
        "colab": {
          "base_uri": "https://localhost:8080/"
        }
      },
      "source": [
        "metrics.cohen_kappa_score(test_y, pred_y)"
      ],
      "execution_count": 10,
      "outputs": [
        {
          "output_type": "execute_result",
          "data": {
            "text/plain": [
              "0.35426187164712897"
            ]
          },
          "metadata": {
            "tags": []
          },
          "execution_count": 10
        }
      ]
    },
    {
      "cell_type": "markdown",
      "metadata": {
        "id": "L6QLbdPoQkQp"
      },
      "source": [
        "The judgement is \"Fair agreement\" based on the kappa statistics above. "
      ]
    },
    {
      "cell_type": "markdown",
      "metadata": {
        "id": "R4b-Z59TQuWl"
      },
      "source": [
        "ROC and AUC"
      ]
    },
    {
      "cell_type": "code",
      "metadata": {
        "id": "wN-t6eKTNcyS",
        "outputId": "0aded1ab-5ea0-4ec3-82e9-d507eb364b7a",
        "colab": {
          "base_uri": "https://localhost:8080/"
        }
      },
      "source": [
        "auc = metrics.roc_auc_score(test_y, pred_prob[:,1])\n",
        "auc"
      ],
      "execution_count": 14,
      "outputs": [
        {
          "output_type": "execute_result",
          "data": {
            "text/plain": [
              "0.709383540844215"
            ]
          },
          "metadata": {
            "tags": []
          },
          "execution_count": 14
        }
      ]
    },
    {
      "cell_type": "code",
      "metadata": {
        "id": "PCgI72-5a3y8"
      },
      "source": [
        "fpr, tpr, _ = metrics.roc_curve(test_y, pred_prob[:,1])"
      ],
      "execution_count": 33,
      "outputs": []
    },
    {
      "cell_type": "code",
      "metadata": {
        "id": "xZXVHdFAdR1k",
        "outputId": "c7eca4ad-e13c-42b5-b283-49d533da0dd5",
        "colab": {
          "base_uri": "https://localhost:8080/",
          "height": 520
        }
      },
      "source": [
        "fig = plt.figure(figsize=(10,8))\n",
        "\n",
        "plt.plot(fpr.tolist(), tpr.tolist(),  label=\"AUC={:.2f}\".format(auc))\n",
        "\n",
        "plt.plot([0,1], [0,1], color='orange', linestyle='--')\n",
        "\n",
        "plt.xticks(np.arange(0.0, 1.1, step=0.1))\n",
        "plt.xlabel(\"Flase Positive Rate\", fontsize=15)\n",
        "\n",
        "plt.yticks(np.arange(0.0, 1.1, step=0.1))\n",
        "plt.ylabel(\"True Positive Rate\", fontsize=15)\n",
        "\n",
        "plt.title('ROC Curve Analysis', fontweight='bold', fontsize=15)\n",
        "plt.legend(prop={'size':13}, loc='lower right')\n",
        "\n",
        "plt.show()"
      ],
      "execution_count": 34,
      "outputs": [
        {
          "output_type": "display_data",
          "data": {
            "image/png": "[encoded data removed]",
            "text/plain": [
              "<Figure size 720x576 with 1 Axes>"
            ]
          },
          "metadata": {
            "tags": [],
            "needs_background": "light"
          }
        }
      ]
    },
    {
      "cell_type": "code",
      "metadata": {
        "id": "E4cKDer5gphO"
      },
      "source": [
        ""
      ],
      "execution_count": null,
      "outputs": []
    }
  ]
}