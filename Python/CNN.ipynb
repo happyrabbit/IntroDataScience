{
  "nbformat": 4,
  "nbformat_minor": 0,
  "metadata": {
    "colab": {
      "provenance": [],
      "toc_visible": true,
      "authorship_tag": "ABX9TyP1/3HnvMN0AOYWZyXa0gKz",
      "include_colab_link": true
    },
    "kernelspec": {
      "name": "python3",
      "display_name": "Python 3"
    }
  },
  "cells": [
    {
      "cell_type": "markdown",
      "metadata": {
        "id": "view-in-github",
        "colab_type": "text"
      },
      "source": [
        "<a href=\"https://colab.research.google.com/github/happyrabbit/IntroDataScience/blob/master/Python/CNN.ipynb\" target=\"_parent\"><img src=\"https://colab.research.google.com/assets/colab-badge.svg\" alt=\"Open In Colab\"/></a>"
      ]
    },
    {
      "cell_type": "markdown",
      "metadata": {
        "id": "JyXYZMDEGDd4"
      },
      "source": [
        "# Packages Download and Installation"
      ]
    },
    {
      "cell_type": "code",
      "metadata": {
        "id": "XYaZ57tvs61q"
      },
      "source": [
        "from tensorflow.keras.utils import to_categorical\n",
        "from tensorflow.keras.datasets import mnist\n",
        "from tensorflow.keras.models import Sequential\n",
        "from tensorflow.keras.layers import Dense, Flatten, Conv2D, MaxPooling2D, Reshape, Dropout"
      ],
      "execution_count": null,
      "outputs": []
    },
    {
      "cell_type": "markdown",
      "metadata": {
        "id": "wGRjELhxay7s"
      },
      "source": [
        "# Data Preprocessing"
      ]
    },
    {
      "cell_type": "code",
      "metadata": {
        "id": "Qp6ti3SzF5Oh",
        "colab": {
          "base_uri": "https://localhost:8080/"
        },
        "outputId": "799da27b-2c82-4e61-9751-7578e472844f"
      },
      "source": [
        "# Load the MNIST dataset into two sets of data, one for training and one for testing\n",
        "(X_train, y_train), (X_test, y_test) = mnist.load_data()\n",
        "\n",
        "# Convert the target labels (y_train and y_test) to one-hot encoded vectors\n",
        "y_train = to_categorical(y_train)\n",
        "y_test = to_categorical(y_test)\n",
        "\n",
        "# Convert the pixel values to floating-point numbers between 0 and 1\n",
        "X_train = X_train.astype('float32') / 255.\n",
        "X_test = X_test.astype('float32') / 255.\n",
        "\n",
        "# Determine the dimensions of the input images in pixels\n",
        "img_width, img_height = X_train.shape[1], X_train.shape[2]\n",
        "\n",
        "# Reshape the input data to have an extra dimension for the grayscale channel (1)\n",
        "X_train = X_train.reshape(X_train.shape[0], img_width, img_height, 1)\n",
        "X_test = X_test.reshape(X_test.shape[0], img_width, img_height, 1)"
      ],
      "execution_count": null,
      "outputs": [
        {
          "output_type": "stream",
          "name": "stdout",
          "text": [
            "Downloading data from https://storage.googleapis.com/tensorflow/tf-keras-datasets/mnist.npz\n",
            "11490434/11490434 [==============================] - 0s 0us/step\n"
          ]
        }
      ]
    },
    {
      "cell_type": "code",
      "metadata": {
        "id": "bIvDnCmSHTdg"
      },
      "source": [
        "# Define a few parameters to be used in the CNN model\n",
        "batch_size = 128  # the number of training examples to use in each iteration\n",
        "num_classes = y_train.shape[1]  # the number of output classes for the model\n",
        "dense_layer_size = 128  # the size of the dense layer in the model"
      ],
      "execution_count": null,
      "outputs": []
    },
    {
      "cell_type": "markdown",
      "source": [
        "In this code, we build a CNN model with multiple layers. We start by adding a convolutional layer with 32 filters and a 3x3 kernel size, followed by a max pooling layer with a pool size of 2x2. We then add another convolutional layer with 64 filters and a 3x3 kernel size, and apply a dropout layer to reduce overfitting. We flatten the output of the convolutional layers into a 1D array, and add a dense layer with 128 units and ReLU activation, followed by another dropout layer. Finally, we add a dense layer with the number of output classes and softmax activation. We compile the model with categorical cross-entropy loss, Adam optimizer, and accuracy metric, and train it on the training data and validate it on the test data for 10 epochs."
      ],
      "metadata": {
        "id": "DAiYWn1qgbrl"
      }
    },
    {
      "cell_type": "code",
      "metadata": {
        "id": "HBNQjDXvHJNz",
        "colab": {
          "base_uri": "https://localhost:8080/"
        },
        "outputId": "226ae77c-ce69-42a1-8fb3-83a5a2afe5cb"
      },
      "source": [
        "# Build the CNN model\n",
        "model = Sequential()\n",
        "\n",
        "# Add a convolutional layer with 32 filters, a 3x3 kernel size, ReLU activation, and input shape of the image dimensions\n",
        "model.add(Conv2D(32, (3, 3), input_shape=(img_width, img_height, 1), activation='relu'))\n",
        "\n",
        "# Add a max pooling layer with a pool size of 2x2\n",
        "model.add(MaxPooling2D(pool_size=(2, 2)))\n",
        "\n",
        "# Add another convolutional layer with 64 filters, a 3x3 kernel size, and ReLU activation\n",
        "model.add(Conv2D(64, (3, 3), activation='relu'))\n",
        "\n",
        "# Add a dropout layer to reduce overfitting\n",
        "model.add(Dropout(0.25))\n",
        "\n",
        "# Flatten the output of the convolutional layers to a 1D array\n",
        "model.add(Flatten())\n",
        "\n",
        "# Add a dense layer with 128 units and ReLU activation\n",
        "model.add(Dense(128, activation='relu'))\n",
        "\n",
        "# Add another dropout layer to further reduce overfitting\n",
        "model.add(Dropout(0.5))\n",
        "\n",
        "# Add the final dense layer with the number of output classes and softmax activation\n",
        "model.add(Dense(num_classes, activation='softmax'))\n",
        "\n",
        "# Compile the model with categorical cross-entropy loss, Adam optimizer, and accuracy metric\n",
        "model.compile(loss='categorical_crossentropy', optimizer='adam', metrics=['accuracy'])\n",
        "\n",
        "# Train the model on the training data and validate it on the test data for 10 epochs\n",
        "model.fit(X_train, y_train, validation_data=(X_test, y_test), epochs=10)"
      ],
      "execution_count": null,
      "outputs": [
        {
          "output_type": "stream",
          "name": "stdout",
          "text": [
            "Epoch 1/10\n",
            "1875/1875 [==============================] - 56s 29ms/step - loss: 0.1979 - accuracy: 0.9397 - val_loss: 0.0437 - val_accuracy: 0.9848\n",
            "Epoch 2/10\n",
            "1875/1875 [==============================] - 52s 28ms/step - loss: 0.0767 - accuracy: 0.9773 - val_loss: 0.0319 - val_accuracy: 0.9897\n",
            "Epoch 3/10\n",
            "1875/1875 [==============================] - 51s 27ms/step - loss: 0.0558 - accuracy: 0.9833 - val_loss: 0.0267 - val_accuracy: 0.9906\n",
            "Epoch 4/10\n",
            "1875/1875 [==============================] - 52s 28ms/step - loss: 0.0455 - accuracy: 0.9863 - val_loss: 0.0260 - val_accuracy: 0.9906\n",
            "Epoch 5/10\n",
            "1875/1875 [==============================] - 53s 28ms/step - loss: 0.0389 - accuracy: 0.9882 - val_loss: 0.0241 - val_accuracy: 0.9931\n",
            "Epoch 6/10\n",
            "1875/1875 [==============================] - 50s 27ms/step - loss: 0.0328 - accuracy: 0.9897 - val_loss: 0.0225 - val_accuracy: 0.9929\n",
            "Epoch 7/10\n",
            "1875/1875 [==============================] - 51s 27ms/step - loss: 0.0292 - accuracy: 0.9908 - val_loss: 0.0236 - val_accuracy: 0.9931\n",
            "Epoch 8/10\n",
            "1875/1875 [==============================] - 50s 27ms/step - loss: 0.0272 - accuracy: 0.9916 - val_loss: 0.0240 - val_accuracy: 0.9931\n",
            "Epoch 9/10\n",
            "1875/1875 [==============================] - 50s 27ms/step - loss: 0.0241 - accuracy: 0.9922 - val_loss: 0.0251 - val_accuracy: 0.9938\n",
            "Epoch 10/10\n",
            "1875/1875 [==============================] - 53s 28ms/step - loss: 0.0222 - accuracy: 0.9932 - val_loss: 0.0255 - val_accuracy: 0.9931\n"
          ]
        },
        {
          "output_type": "execute_result",
          "data": {
            "text/plain": [
              "<keras.callbacks.History at 0x7efc7ae316a0>"
            ]
          },
          "metadata": {},
          "execution_count": 4
        }
      ]
    },
    {
      "cell_type": "code",
      "metadata": {
        "id": "qBcQkIX-H5y4"
      },
      "source": [],
      "execution_count": null,
      "outputs": []
    }
  ]
}