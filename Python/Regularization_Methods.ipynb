{
  "nbformat": 4,
  "nbformat_minor": 0,
  "metadata": {
    "colab": {
      "name": " Regularization_Methods.ipynb",
      "provenance": [],
      "collapsed_sections": [],
      "toc_visible": true,
      "authorship_tag": "ABX9TyN7OtDphuGBFbiDG++n8x/B",
      "include_colab_link": true
    },
    "kernelspec": {
      "name": "python3",
      "display_name": "Python 3"
    }
  },
  "cells": [
    {
      "cell_type": "markdown",
      "metadata": {
        "id": "view-in-github",
        "colab_type": "text"
      },
      "source": [
        "<a href=\"https://colab.research.google.com/github/happyrabbit/IntroDataScience/blob/master/Python/Regularization_Methods.ipynb\" target=\"_parent\"><img src=\"https://colab.research.google.com/assets/colab-badge.svg\" alt=\"Open In Colab\"/></a>"
      ]
    },
    {
      "cell_type": "markdown",
      "metadata": {
        "id": "tmD78OyiUT1L"
      },
      "source": [
        "# Ridge Regression"
      ]
    },
    {
      "cell_type": "code",
      "metadata": {
        "id": "PT7PX0UuUekT"
      },
      "source": [
        "import numpy as np\n",
        "import pandas as pd\n",
        "from sklearn.preprocessing import scale\n",
        "from sklearn.linear_model import Ridge, Lasso\n",
        "import sklearn.model_selection as ms\n",
        "import sklearn.metrics as metrics\n",
        "from sklearn.metrics import mean_squared_error, r2_score\n",
        "from sklearn.linear_model import ElasticNet"
      ],
      "execution_count": 1,
      "outputs": []
    },
    {
      "cell_type": "code",
      "metadata": {
        "id": "cB2Z1bBozS-A",
        "outputId": "b6632a2b-bc5f-47f4-e821-fe7e8a981cd3",
        "colab": {
          "base_uri": "https://localhost:8080/",
          "height": 204
        }
      },
      "source": [
        "# load data\n",
        "sim_dat = pd.read_csv(\"http://bit.ly/2P5gTw4\")\n",
        "sim_dat.head()"
      ],
      "execution_count": 2,
      "outputs": [
        {
          "output_type": "execute_result",
          "data": {
            "text/html": [
              "<div>\n",
              "<style scoped>\n",
              "    .dataframe tbody tr th:only-of-type {\n",
              "        vertical-align: middle;\n",
              "    }\n",
              "\n",
              "    .dataframe tbody tr th {\n",
              "        vertical-align: top;\n",
              "    }\n",
              "\n",
              "    .dataframe thead th {\n",
              "        text-align: right;\n",
              "    }\n",
              "</style>\n",
              "<table border=\"1\" class=\"dataframe\">\n",
              "  <thead>\n",
              "    <tr style=\"text-align: right;\">\n",
              "      <th></th>\n",
              "      <th>age</th>\n",
              "      <th>gender</th>\n",
              "      <th>income</th>\n",
              "      <th>house</th>\n",
              "      <th>store_exp</th>\n",
              "      <th>online_exp</th>\n",
              "      <th>store_trans</th>\n",
              "      <th>online_trans</th>\n",
              "      <th>Q1</th>\n",
              "      <th>Q2</th>\n",
              "      <th>Q3</th>\n",
              "      <th>Q4</th>\n",
              "      <th>Q5</th>\n",
              "      <th>Q6</th>\n",
              "      <th>Q7</th>\n",
              "      <th>Q8</th>\n",
              "      <th>Q9</th>\n",
              "      <th>Q10</th>\n",
              "      <th>segment</th>\n",
              "    </tr>\n",
              "  </thead>\n",
              "  <tbody>\n",
              "    <tr>\n",
              "      <th>0</th>\n",
              "      <td>57</td>\n",
              "      <td>Female</td>\n",
              "      <td>120963.400958</td>\n",
              "      <td>Yes</td>\n",
              "      <td>529.134363</td>\n",
              "      <td>303.512475</td>\n",
              "      <td>2</td>\n",
              "      <td>2</td>\n",
              "      <td>4</td>\n",
              "      <td>2</td>\n",
              "      <td>1</td>\n",
              "      <td>2</td>\n",
              "      <td>1</td>\n",
              "      <td>4</td>\n",
              "      <td>1</td>\n",
              "      <td>4</td>\n",
              "      <td>2</td>\n",
              "      <td>4</td>\n",
              "      <td>Price</td>\n",
              "    </tr>\n",
              "    <tr>\n",
              "      <th>1</th>\n",
              "      <td>63</td>\n",
              "      <td>Female</td>\n",
              "      <td>122008.104950</td>\n",
              "      <td>Yes</td>\n",
              "      <td>478.005781</td>\n",
              "      <td>109.529710</td>\n",
              "      <td>4</td>\n",
              "      <td>2</td>\n",
              "      <td>4</td>\n",
              "      <td>1</td>\n",
              "      <td>1</td>\n",
              "      <td>2</td>\n",
              "      <td>1</td>\n",
              "      <td>4</td>\n",
              "      <td>1</td>\n",
              "      <td>4</td>\n",
              "      <td>1</td>\n",
              "      <td>4</td>\n",
              "      <td>Price</td>\n",
              "    </tr>\n",
              "    <tr>\n",
              "      <th>2</th>\n",
              "      <td>59</td>\n",
              "      <td>Male</td>\n",
              "      <td>114202.295294</td>\n",
              "      <td>Yes</td>\n",
              "      <td>490.810731</td>\n",
              "      <td>279.249582</td>\n",
              "      <td>7</td>\n",
              "      <td>2</td>\n",
              "      <td>5</td>\n",
              "      <td>2</td>\n",
              "      <td>1</td>\n",
              "      <td>2</td>\n",
              "      <td>1</td>\n",
              "      <td>4</td>\n",
              "      <td>1</td>\n",
              "      <td>4</td>\n",
              "      <td>1</td>\n",
              "      <td>4</td>\n",
              "      <td>Price</td>\n",
              "    </tr>\n",
              "    <tr>\n",
              "      <th>3</th>\n",
              "      <td>60</td>\n",
              "      <td>Male</td>\n",
              "      <td>113616.337078</td>\n",
              "      <td>Yes</td>\n",
              "      <td>347.809004</td>\n",
              "      <td>141.669752</td>\n",
              "      <td>10</td>\n",
              "      <td>2</td>\n",
              "      <td>5</td>\n",
              "      <td>2</td>\n",
              "      <td>1</td>\n",
              "      <td>3</td>\n",
              "      <td>1</td>\n",
              "      <td>4</td>\n",
              "      <td>1</td>\n",
              "      <td>4</td>\n",
              "      <td>2</td>\n",
              "      <td>4</td>\n",
              "      <td>Price</td>\n",
              "    </tr>\n",
              "    <tr>\n",
              "      <th>4</th>\n",
              "      <td>51</td>\n",
              "      <td>Male</td>\n",
              "      <td>124252.552787</td>\n",
              "      <td>Yes</td>\n",
              "      <td>379.625940</td>\n",
              "      <td>112.237177</td>\n",
              "      <td>4</td>\n",
              "      <td>4</td>\n",
              "      <td>4</td>\n",
              "      <td>1</td>\n",
              "      <td>1</td>\n",
              "      <td>3</td>\n",
              "      <td>1</td>\n",
              "      <td>4</td>\n",
              "      <td>1</td>\n",
              "      <td>4</td>\n",
              "      <td>2</td>\n",
              "      <td>4</td>\n",
              "      <td>Price</td>\n",
              "    </tr>\n",
              "  </tbody>\n",
              "</table>\n",
              "</div>"
            ],
            "text/plain": [
              "   age  gender         income house   store_exp  ...  Q7  Q8  Q9  Q10  segment\n",
              "0   57  Female  120963.400958   Yes  529.134363  ...   1   4   2    4    Price\n",
              "1   63  Female  122008.104950   Yes  478.005781  ...   1   4   1    4    Price\n",
              "2   59    Male  114202.295294   Yes  490.810731  ...   1   4   1    4    Price\n",
              "3   60    Male  113616.337078   Yes  347.809004  ...   1   4   2    4    Price\n",
              "4   51    Male  124252.552787   Yes  379.625940  ...   1   4   2    4    Price\n",
              "\n",
              "[5 rows x 19 columns]"
            ]
          },
          "metadata": {
            "tags": []
          },
          "execution_count": 2
        }
      ]
    },
    {
      "cell_type": "markdown",
      "metadata": {
        "id": "qmk9oTE0UkEB"
      },
      "source": [
        "Let’s use the 10 survey questions to predict the total purchase amount (sum of online and store purchase)."
      ]
    },
    {
      "cell_type": "code",
      "metadata": {
        "id": "_A-Uum4AUcI6"
      },
      "source": [
        "sim_dat = sim_dat[sim_dat.store_exp >0] \n",
        "sim_dat = sim_dat[sim_dat.online_exp > 0]\n",
        "# get predictors\n",
        "trainx = sim_dat.filter(regex = \"^Q\")\n",
        "# get response\n",
        "# total expense = in store expense + online expense\n",
        "trainy =  sim_dat.store_exp + sim_dat.online_exp"
      ],
      "execution_count": 3,
      "outputs": []
    },
    {
      "cell_type": "markdown",
      "metadata": {
        "id": "1-sZb-vuX8Qi"
      },
      "source": [
        "The `Ridge()` function has an `alpha` argument ( $\\lambda$ in the text) that is used to tune the model. We'll generate an array of `alpha` values ranging from very big to very small, essentially covering the full range of scenarios from the null model containing only the intercept, to the least squares fit. Since ridge regression adds the penalty parameter $\\lambda$ in front of the sum of squares of the parameters, the scale of the parameters matters. So here it is better to center and scale the predictors. "
      ]
    },
    {
      "cell_type": "code",
      "metadata": {
        "id": "-Y21twb0XlCW",
        "outputId": "b5210ef7-6bf7-46c2-c5ca-6da276f00d3f",
        "colab": {
          "base_uri": "https://localhost:8080/"
        }
      },
      "source": [
        "alphas = np.linspace(0,.1,20)\n",
        "alphas"
      ],
      "execution_count": 4,
      "outputs": [
        {
          "output_type": "execute_result",
          "data": {
            "text/plain": [
              "array([0.        , 0.00526316, 0.01052632, 0.01578947, 0.02105263,\n",
              "       0.02631579, 0.03157895, 0.03684211, 0.04210526, 0.04736842,\n",
              "       0.05263158, 0.05789474, 0.06315789, 0.06842105, 0.07368421,\n",
              "       0.07894737, 0.08421053, 0.08947368, 0.09473684, 0.1       ])"
            ]
          },
          "metadata": {
            "tags": []
          },
          "execution_count": 4
        }
      ]
    },
    {
      "cell_type": "code",
      "metadata": {
        "id": "I08x7ap4G01j",
        "outputId": "73887fd1-ceca-4012-d47d-e45ad02e371e",
        "colab": {
          "base_uri": "https://localhost:8080/"
        }
      },
      "source": [
        "grid_tune = [{'alpha': alphas}]\n",
        "ridge_model = Ridge(normalize = True, tol = 1e-5)\n",
        "cv_ridge = ms.GridSearchCV(estimator = ridge_model,\n",
        "                       param_grid = grid_tune,\n",
        "                       cv = ms.KFold(n_splits = 10),\n",
        "                       scoring = 'neg_root_mean_squared_error')\n",
        "train_ridge = cv_ridge.fit(trainx, trainy) \n",
        "train_ridge.best_params_"
      ],
      "execution_count": 5,
      "outputs": [
        {
          "output_type": "execute_result",
          "data": {
            "text/plain": [
              "{'alpha': 0.04736842105263158}"
            ]
          },
          "metadata": {
            "tags": []
          },
          "execution_count": 5
        }
      ]
    },
    {
      "cell_type": "markdown",
      "metadata": {
        "id": "w_pEtwRakHJ9"
      },
      "source": [
        "Use cross-validation to choose the tuning parameter `alpha`. We can do this using the cross-validated ridge regression function, [`RidgeCV()`](https://scikit-learn.org/stable/modules/generated/sklearn.linear_model.RidgeCV.html). By default, the function performs generalized cross-validation (an efficient form of LOOCV), though this can be changed using the argument cv."
      ]
    },
    {
      "cell_type": "markdown",
      "metadata": {
        "id": "c_02u30rlW9S"
      },
      "source": [
        "Therefore, we see that the value of alpha that results in the smallest cross-validation error is 0.05. "
      ]
    },
    {
      "cell_type": "code",
      "metadata": {
        "id": "XxRH22S3k3CE",
        "outputId": "5ffd7ed3-0731-4e5f-a23b-d58866df327b",
        "colab": {
          "base_uri": "https://localhost:8080/"
        }
      },
      "source": [
        "ridge = Ridge(alpha = train_ridge.best_params_['alpha'], normalize = True)\n",
        "ridge.fit(trainx, trainy)\n",
        "\n",
        "# rmse\n",
        "rmse = np.sqrt(mean_squared_error(trainy, ridge.predict(trainx)))\n",
        "rmse = round(rmse, 0)\n",
        "# r2\n",
        "r2 = r2_score(trainy, ridge.predict(trainx))\n",
        "r2 = round(r2, 2)\n",
        "\n",
        "print(\"root mean squared error is: \" + str(rmse) + \"; r2 is: \" + str(r2) )"
      ],
      "execution_count": 6,
      "outputs": [
        {
          "output_type": "stream",
          "text": [
            "root mean squared error is: 2146.0; r2 is: 0.71\n"
          ],
          "name": "stdout"
        }
      ]
    },
    {
      "cell_type": "markdown",
      "metadata": {
        "id": "JUWTBVfMU96g"
      },
      "source": [
        "# LASSO"
      ]
    },
    {
      "cell_type": "code",
      "metadata": {
        "id": "BgbIlK2wp2qI",
        "outputId": "4d429640-a634-4765-f0fa-8709e3f163d4",
        "colab": {
          "base_uri": "https://localhost:8080/"
        }
      },
      "source": [
        "alphas = np.linspace(0.8,1,20)\n",
        "alphas"
      ],
      "execution_count": 7,
      "outputs": [
        {
          "output_type": "execute_result",
          "data": {
            "text/plain": [
              "array([0.8       , 0.81052632, 0.82105263, 0.83157895, 0.84210526,\n",
              "       0.85263158, 0.86315789, 0.87368421, 0.88421053, 0.89473684,\n",
              "       0.90526316, 0.91578947, 0.92631579, 0.93684211, 0.94736842,\n",
              "       0.95789474, 0.96842105, 0.97894737, 0.98947368, 1.        ])"
            ]
          },
          "metadata": {
            "tags": []
          },
          "execution_count": 7
        }
      ]
    },
    {
      "cell_type": "code",
      "metadata": {
        "id": "PzuiN20QgUXd",
        "outputId": "2838994f-f170-497b-c9c5-37cd0a5a2368",
        "colab": {
          "base_uri": "https://localhost:8080/"
        }
      },
      "source": [
        "grid_tune = [{'alpha': alphas}]\n",
        "lasso_model = Lasso(normalize = True, tol = 1e-6, max_iter=5000)\n",
        "cv_lasso = ms.GridSearchCV(estimator = lasso_model,\n",
        "                       param_grid = grid_tune,\n",
        "                       cv = ms.KFold(n_splits = 10),\n",
        "                       scoring = 'neg_mean_absolute_error')\n",
        "train_lasso = cv_lasso.fit(trainx, trainy) \n",
        "train_lasso.best_params_"
      ],
      "execution_count": 8,
      "outputs": [
        {
          "output_type": "execute_result",
          "data": {
            "text/plain": [
              "{'alpha': 0.8}"
            ]
          },
          "metadata": {
            "tags": []
          },
          "execution_count": 8
        }
      ]
    },
    {
      "cell_type": "code",
      "metadata": {
        "id": "Bj_yxTnwhEnF",
        "outputId": "788f4676-c8de-4638-aa98-4fd82aa3711f",
        "colab": {
          "base_uri": "https://localhost:8080/"
        }
      },
      "source": [
        "lasso = Lasso(alpha = train_lasso.best_params_['alpha'], normalize = True)\n",
        "lasso.fit(trainx, trainy)\n",
        "\n",
        "# rmse\n",
        "rmse = np.sqrt(mean_squared_error(trainy, lasso.predict(trainx)))\n",
        "rmse = round(rmse, 0)\n",
        "# r2\n",
        "r2 = r2_score(trainy, lasso.predict(trainx))\n",
        "r2 = round(r2, 2)\n",
        "\n",
        "print(\"root mean squared error is: \" + str(rmse) + \"; r2 is: \" + str(r2) )"
      ],
      "execution_count": 9,
      "outputs": [
        {
          "output_type": "stream",
          "text": [
            "root mean squared error is: 2146.0; r2 is: 0.71\n"
          ],
          "name": "stdout"
        }
      ]
    },
    {
      "cell_type": "markdown",
      "metadata": {
        "id": "Q92g4vfW_92X"
      },
      "source": [
        "You can check the coefficients from ridge and lasso regression:"
      ]
    },
    {
      "cell_type": "code",
      "metadata": {
        "id": "Xx6sMm8vhdJT",
        "outputId": "5ae7ed10-08b3-4ff6-d706-413ffaae25a3",
        "colab": {
          "base_uri": "https://localhost:8080/"
        }
      },
      "source": [
        "lasso.coef_"
      ],
      "execution_count": 10,
      "outputs": [
        {
          "output_type": "execute_result",
          "data": {
            "text/plain": [
              "array([-344.45705761,  747.06107452,  747.92933286,  155.33376206,\n",
              "        504.2691654 ,  556.95084115,    0.        ,  -65.756796  ,\n",
              "        330.83886043, -268.99720355])"
            ]
          },
          "metadata": {
            "tags": []
          },
          "execution_count": 10
        }
      ]
    },
    {
      "cell_type": "code",
      "metadata": {
        "id": "u_M63zqmmc5z",
        "outputId": "90215524-6a13-432c-c773-c14f917b5dac",
        "colab": {
          "base_uri": "https://localhost:8080/"
        }
      },
      "source": [
        "ridge.coef_"
      ],
      "execution_count": 11,
      "outputs": [
        {
          "output_type": "execute_result",
          "data": {
            "text/plain": [
              "array([-381.25436637,  724.62081438,  605.62303393,  243.68915612,\n",
              "        441.81906046,  596.21457191,    2.47073291, -156.1008175 ,\n",
              "        376.07250987, -299.75714569])"
            ]
          },
          "metadata": {
            "tags": []
          },
          "execution_count": 11
        }
      ]
    },
    {
      "cell_type": "markdown",
      "metadata": {
        "id": "VnBuzukZASx6"
      },
      "source": [
        "# Elastic Net\n",
        "\n",
        "You can use `ElasticNet`  from `sklearn` to fit elastic net model. The parameter setting is confusing. `l1_ratio` controls the contribution of the L1 and L2 penalties and the `alpha` argument controls the contribution of the sum of both penalties to the loss function. \n",
        "\n",
        "```\n",
        "1 / (2 * n_samples) * ||y - Xw||^2_2\n",
        "+ alpha * l1_ratio * ||w||_1\n",
        "+ 0.5 * alpha * (1 - l1_ratio) * ||w||^2_2\n",
        "```\n",
        "\n",
        "It is equivalent to: `a * L1 + b * L2` where `a = alpha*l1_ratio` and `b = alpha (1- l1_ratio)`.\n",
        "\n"
      ]
    },
    {
      "cell_type": "code",
      "metadata": {
        "id": "oyVHIFqkEeCz",
        "outputId": "d73a9ccb-fe80-4d72-eb9d-2bd48ef45bcf",
        "colab": {
          "base_uri": "https://localhost:8080/"
        }
      },
      "source": [
        "# define model\n",
        "EN = ElasticNet(normalize = True)\n",
        "# define model evaluation method\n",
        "cv = ms.KFold(n_splits = 10)\n",
        "# define grid\n",
        "grid_tune = dict()\n",
        "grid_tune['alpha'] = np.linspace(0, 0.2, 20)\n",
        "grid_tune['l1_ratio'] = np.linspace(0.8, 1, 20)\n",
        "# define search\n",
        "search = ms.GridSearchCV(EN, grid_tune, scoring='neg_mean_absolute_error', cv=cv, n_jobs=-1)\n",
        "# perform the search\n",
        "results = search.fit(trainx, trainy)\n",
        "# summarize\n",
        "print('Config: %s' % results.best_params_)"
      ],
      "execution_count": 12,
      "outputs": [
        {
          "output_type": "stream",
          "text": [
            "Config: {'alpha': 0.010526315789473684, 'l1_ratio': 0.9894736842105263}\n"
          ],
          "name": "stdout"
        }
      ]
    },
    {
      "cell_type": "code",
      "metadata": {
        "id": "ewqB7ggwLAj_",
        "outputId": "fafd8ec6-6941-4f40-a54b-b34f56b00912",
        "colab": {
          "base_uri": "https://localhost:8080/"
        }
      },
      "source": [
        "EN = ElasticNet(alpha = results.best_params_['alpha'], l1_ratio = results.best_params_['l1_ratio'], normalize = True)\n",
        "EN.fit(trainx, trainy)\n",
        "\n",
        "# rmse\n",
        "rmse = np.sqrt(mean_squared_error(trainy, EN.predict(trainx)))\n",
        "rmse = round(rmse, 0)\n",
        "# r2\n",
        "r2 = r2_score(trainy, EN.predict(trainx))\n",
        "r2 = round(r2, 2)\n",
        "\n",
        "print(\"root mean squared error is: \" + str(rmse) + \"; r2 is: \" + str(r2) )"
      ],
      "execution_count": 13,
      "outputs": [
        {
          "output_type": "stream",
          "text": [
            "root mean squared error is: 2150.0; r2 is: 0.71\n"
          ],
          "name": "stdout"
        }
      ]
    },
    {
      "cell_type": "markdown",
      "metadata": {
        "id": "8rV7hCabLl_i"
      },
      "source": [
        "# Penalized logistic regression\n"
      ]
    },
    {
      "cell_type": "markdown",
      "metadata": {
        "id": "Un9jNQwpZO3n"
      },
      "source": [
        "## Lasso logistic regression\n",
        "\n",
        "You can use [`glmnet`](https://pypi.org/project/glmnet/) package in python to fit penalized logistic regression. We use version 2.2.1 here. It is a Python wrapper for the fortran library used in the R package `glmnet`. "
      ]
    },
    {
      "cell_type": "code",
      "metadata": {
        "id": "koKi_EgzLmma",
        "outputId": "5d4ce1ba-02e5-4d4a-b79e-eab8f2ec21f7",
        "colab": {
          "base_uri": "https://localhost:8080/",
          "height": 253
        }
      },
      "source": [
        "# load data\n",
        "sim_dat = pd.read_csv(\"http://bit.ly/2KXb1Qi\")\n",
        "sim_dat.head()"
      ],
      "execution_count": 14,
      "outputs": [
        {
          "output_type": "execute_result",
          "data": {
            "text/html": [
              "<div>\n",
              "<style scoped>\n",
              "    .dataframe tbody tr th:only-of-type {\n",
              "        vertical-align: middle;\n",
              "    }\n",
              "\n",
              "    .dataframe tbody tr th {\n",
              "        vertical-align: top;\n",
              "    }\n",
              "\n",
              "    .dataframe thead th {\n",
              "        text-align: right;\n",
              "    }\n",
              "</style>\n",
              "<table border=\"1\" class=\"dataframe\">\n",
              "  <thead>\n",
              "    <tr style=\"text-align: right;\">\n",
              "      <th></th>\n",
              "      <th>Q1.A</th>\n",
              "      <th>Q1.B</th>\n",
              "      <th>Q2.A</th>\n",
              "      <th>Q2.B</th>\n",
              "      <th>Q3.A</th>\n",
              "      <th>Q3.B</th>\n",
              "      <th>Q4.A</th>\n",
              "      <th>Q4.B</th>\n",
              "      <th>Q5.A</th>\n",
              "      <th>Q5.B</th>\n",
              "      <th>Q6.A</th>\n",
              "      <th>Q6.B</th>\n",
              "      <th>Q7.A</th>\n",
              "      <th>Q7.B</th>\n",
              "      <th>Q8.A</th>\n",
              "      <th>Q8.B</th>\n",
              "      <th>Q9.A</th>\n",
              "      <th>Q9.B</th>\n",
              "      <th>Q10.A</th>\n",
              "      <th>Q10.B</th>\n",
              "      <th>Q11.A</th>\n",
              "      <th>Q11.B</th>\n",
              "      <th>Q12.A</th>\n",
              "      <th>Q12.B</th>\n",
              "      <th>Q13.A</th>\n",
              "      <th>Q13.B</th>\n",
              "      <th>Q14.A</th>\n",
              "      <th>Q14.B</th>\n",
              "      <th>Q15.A</th>\n",
              "      <th>Q15.B</th>\n",
              "      <th>Q16.A</th>\n",
              "      <th>Q16.B</th>\n",
              "      <th>Q17.A</th>\n",
              "      <th>Q17.B</th>\n",
              "      <th>Q18.A</th>\n",
              "      <th>Q18.B</th>\n",
              "      <th>Q19.A</th>\n",
              "      <th>Q19.B</th>\n",
              "      <th>Q20.A</th>\n",
              "      <th>Q20.B</th>\n",
              "      <th>...</th>\n",
              "      <th>Q101.B</th>\n",
              "      <th>Q102.A</th>\n",
              "      <th>Q102.B</th>\n",
              "      <th>Q103.A</th>\n",
              "      <th>Q103.B</th>\n",
              "      <th>Q104.A</th>\n",
              "      <th>Q104.B</th>\n",
              "      <th>Q105.A</th>\n",
              "      <th>Q105.B</th>\n",
              "      <th>Q106.A</th>\n",
              "      <th>Q106.B</th>\n",
              "      <th>Q107.A</th>\n",
              "      <th>Q107.B</th>\n",
              "      <th>Q108.A</th>\n",
              "      <th>Q108.B</th>\n",
              "      <th>Q109.A</th>\n",
              "      <th>Q109.B</th>\n",
              "      <th>Q110.A</th>\n",
              "      <th>Q110.B</th>\n",
              "      <th>Q111.A</th>\n",
              "      <th>Q111.B</th>\n",
              "      <th>Q112.A</th>\n",
              "      <th>Q112.B</th>\n",
              "      <th>Q113.A</th>\n",
              "      <th>Q113.B</th>\n",
              "      <th>Q114.A</th>\n",
              "      <th>Q114.B</th>\n",
              "      <th>Q115.A</th>\n",
              "      <th>Q115.B</th>\n",
              "      <th>Q116.A</th>\n",
              "      <th>Q116.B</th>\n",
              "      <th>Q117.A</th>\n",
              "      <th>Q117.B</th>\n",
              "      <th>Q118.A</th>\n",
              "      <th>Q118.B</th>\n",
              "      <th>Q119.A</th>\n",
              "      <th>Q119.B</th>\n",
              "      <th>Q120.A</th>\n",
              "      <th>Q120.B</th>\n",
              "      <th>y</th>\n",
              "    </tr>\n",
              "  </thead>\n",
              "  <tbody>\n",
              "    <tr>\n",
              "      <th>0</th>\n",
              "      <td>0</td>\n",
              "      <td>1</td>\n",
              "      <td>0</td>\n",
              "      <td>0</td>\n",
              "      <td>1</td>\n",
              "      <td>0</td>\n",
              "      <td>1</td>\n",
              "      <td>0</td>\n",
              "      <td>1</td>\n",
              "      <td>0</td>\n",
              "      <td>1</td>\n",
              "      <td>0</td>\n",
              "      <td>0</td>\n",
              "      <td>1</td>\n",
              "      <td>0</td>\n",
              "      <td>1</td>\n",
              "      <td>1</td>\n",
              "      <td>0</td>\n",
              "      <td>0</td>\n",
              "      <td>1</td>\n",
              "      <td>0</td>\n",
              "      <td>1</td>\n",
              "      <td>0</td>\n",
              "      <td>0</td>\n",
              "      <td>1</td>\n",
              "      <td>0</td>\n",
              "      <td>1</td>\n",
              "      <td>0</td>\n",
              "      <td>1</td>\n",
              "      <td>0</td>\n",
              "      <td>0</td>\n",
              "      <td>0</td>\n",
              "      <td>0</td>\n",
              "      <td>1</td>\n",
              "      <td>0</td>\n",
              "      <td>0</td>\n",
              "      <td>0</td>\n",
              "      <td>0</td>\n",
              "      <td>0</td>\n",
              "      <td>1</td>\n",
              "      <td>...</td>\n",
              "      <td>1</td>\n",
              "      <td>1</td>\n",
              "      <td>0</td>\n",
              "      <td>0</td>\n",
              "      <td>1</td>\n",
              "      <td>0</td>\n",
              "      <td>1</td>\n",
              "      <td>0</td>\n",
              "      <td>0</td>\n",
              "      <td>0</td>\n",
              "      <td>1</td>\n",
              "      <td>0</td>\n",
              "      <td>1</td>\n",
              "      <td>1</td>\n",
              "      <td>0</td>\n",
              "      <td>1</td>\n",
              "      <td>0</td>\n",
              "      <td>1</td>\n",
              "      <td>0</td>\n",
              "      <td>0</td>\n",
              "      <td>0</td>\n",
              "      <td>0</td>\n",
              "      <td>1</td>\n",
              "      <td>0</td>\n",
              "      <td>1</td>\n",
              "      <td>0</td>\n",
              "      <td>1</td>\n",
              "      <td>0</td>\n",
              "      <td>0</td>\n",
              "      <td>1</td>\n",
              "      <td>0</td>\n",
              "      <td>0</td>\n",
              "      <td>0</td>\n",
              "      <td>1</td>\n",
              "      <td>0</td>\n",
              "      <td>0</td>\n",
              "      <td>0</td>\n",
              "      <td>0</td>\n",
              "      <td>1</td>\n",
              "      <td>1</td>\n",
              "    </tr>\n",
              "    <tr>\n",
              "      <th>1</th>\n",
              "      <td>0</td>\n",
              "      <td>0</td>\n",
              "      <td>0</td>\n",
              "      <td>1</td>\n",
              "      <td>0</td>\n",
              "      <td>1</td>\n",
              "      <td>1</td>\n",
              "      <td>0</td>\n",
              "      <td>0</td>\n",
              "      <td>1</td>\n",
              "      <td>1</td>\n",
              "      <td>0</td>\n",
              "      <td>0</td>\n",
              "      <td>1</td>\n",
              "      <td>0</td>\n",
              "      <td>1</td>\n",
              "      <td>0</td>\n",
              "      <td>0</td>\n",
              "      <td>0</td>\n",
              "      <td>1</td>\n",
              "      <td>0</td>\n",
              "      <td>1</td>\n",
              "      <td>0</td>\n",
              "      <td>0</td>\n",
              "      <td>1</td>\n",
              "      <td>0</td>\n",
              "      <td>0</td>\n",
              "      <td>0</td>\n",
              "      <td>0</td>\n",
              "      <td>1</td>\n",
              "      <td>0</td>\n",
              "      <td>1</td>\n",
              "      <td>0</td>\n",
              "      <td>1</td>\n",
              "      <td>0</td>\n",
              "      <td>1</td>\n",
              "      <td>1</td>\n",
              "      <td>0</td>\n",
              "      <td>1</td>\n",
              "      <td>0</td>\n",
              "      <td>...</td>\n",
              "      <td>0</td>\n",
              "      <td>1</td>\n",
              "      <td>0</td>\n",
              "      <td>0</td>\n",
              "      <td>0</td>\n",
              "      <td>1</td>\n",
              "      <td>0</td>\n",
              "      <td>0</td>\n",
              "      <td>0</td>\n",
              "      <td>0</td>\n",
              "      <td>0</td>\n",
              "      <td>0</td>\n",
              "      <td>0</td>\n",
              "      <td>1</td>\n",
              "      <td>0</td>\n",
              "      <td>0</td>\n",
              "      <td>0</td>\n",
              "      <td>0</td>\n",
              "      <td>1</td>\n",
              "      <td>0</td>\n",
              "      <td>1</td>\n",
              "      <td>1</td>\n",
              "      <td>0</td>\n",
              "      <td>1</td>\n",
              "      <td>0</td>\n",
              "      <td>1</td>\n",
              "      <td>0</td>\n",
              "      <td>0</td>\n",
              "      <td>1</td>\n",
              "      <td>0</td>\n",
              "      <td>1</td>\n",
              "      <td>0</td>\n",
              "      <td>0</td>\n",
              "      <td>0</td>\n",
              "      <td>1</td>\n",
              "      <td>0</td>\n",
              "      <td>1</td>\n",
              "      <td>0</td>\n",
              "      <td>0</td>\n",
              "      <td>1</td>\n",
              "    </tr>\n",
              "    <tr>\n",
              "      <th>2</th>\n",
              "      <td>0</td>\n",
              "      <td>1</td>\n",
              "      <td>1</td>\n",
              "      <td>0</td>\n",
              "      <td>0</td>\n",
              "      <td>1</td>\n",
              "      <td>0</td>\n",
              "      <td>1</td>\n",
              "      <td>0</td>\n",
              "      <td>1</td>\n",
              "      <td>0</td>\n",
              "      <td>1</td>\n",
              "      <td>0</td>\n",
              "      <td>1</td>\n",
              "      <td>0</td>\n",
              "      <td>1</td>\n",
              "      <td>0</td>\n",
              "      <td>0</td>\n",
              "      <td>1</td>\n",
              "      <td>0</td>\n",
              "      <td>0</td>\n",
              "      <td>0</td>\n",
              "      <td>1</td>\n",
              "      <td>0</td>\n",
              "      <td>0</td>\n",
              "      <td>0</td>\n",
              "      <td>1</td>\n",
              "      <td>0</td>\n",
              "      <td>0</td>\n",
              "      <td>0</td>\n",
              "      <td>1</td>\n",
              "      <td>0</td>\n",
              "      <td>1</td>\n",
              "      <td>0</td>\n",
              "      <td>0</td>\n",
              "      <td>1</td>\n",
              "      <td>0</td>\n",
              "      <td>1</td>\n",
              "      <td>1</td>\n",
              "      <td>0</td>\n",
              "      <td>...</td>\n",
              "      <td>0</td>\n",
              "      <td>0</td>\n",
              "      <td>1</td>\n",
              "      <td>1</td>\n",
              "      <td>0</td>\n",
              "      <td>0</td>\n",
              "      <td>0</td>\n",
              "      <td>0</td>\n",
              "      <td>0</td>\n",
              "      <td>1</td>\n",
              "      <td>0</td>\n",
              "      <td>0</td>\n",
              "      <td>1</td>\n",
              "      <td>0</td>\n",
              "      <td>1</td>\n",
              "      <td>1</td>\n",
              "      <td>0</td>\n",
              "      <td>0</td>\n",
              "      <td>0</td>\n",
              "      <td>1</td>\n",
              "      <td>0</td>\n",
              "      <td>0</td>\n",
              "      <td>1</td>\n",
              "      <td>1</td>\n",
              "      <td>0</td>\n",
              "      <td>1</td>\n",
              "      <td>0</td>\n",
              "      <td>0</td>\n",
              "      <td>0</td>\n",
              "      <td>1</td>\n",
              "      <td>0</td>\n",
              "      <td>0</td>\n",
              "      <td>0</td>\n",
              "      <td>1</td>\n",
              "      <td>0</td>\n",
              "      <td>0</td>\n",
              "      <td>0</td>\n",
              "      <td>1</td>\n",
              "      <td>0</td>\n",
              "      <td>1</td>\n",
              "    </tr>\n",
              "    <tr>\n",
              "      <th>3</th>\n",
              "      <td>0</td>\n",
              "      <td>0</td>\n",
              "      <td>0</td>\n",
              "      <td>0</td>\n",
              "      <td>0</td>\n",
              "      <td>1</td>\n",
              "      <td>1</td>\n",
              "      <td>0</td>\n",
              "      <td>0</td>\n",
              "      <td>0</td>\n",
              "      <td>1</td>\n",
              "      <td>0</td>\n",
              "      <td>1</td>\n",
              "      <td>0</td>\n",
              "      <td>1</td>\n",
              "      <td>0</td>\n",
              "      <td>0</td>\n",
              "      <td>1</td>\n",
              "      <td>0</td>\n",
              "      <td>1</td>\n",
              "      <td>1</td>\n",
              "      <td>0</td>\n",
              "      <td>0</td>\n",
              "      <td>0</td>\n",
              "      <td>0</td>\n",
              "      <td>1</td>\n",
              "      <td>1</td>\n",
              "      <td>0</td>\n",
              "      <td>0</td>\n",
              "      <td>0</td>\n",
              "      <td>0</td>\n",
              "      <td>1</td>\n",
              "      <td>0</td>\n",
              "      <td>0</td>\n",
              "      <td>0</td>\n",
              "      <td>1</td>\n",
              "      <td>1</td>\n",
              "      <td>0</td>\n",
              "      <td>0</td>\n",
              "      <td>0</td>\n",
              "      <td>...</td>\n",
              "      <td>0</td>\n",
              "      <td>0</td>\n",
              "      <td>1</td>\n",
              "      <td>0</td>\n",
              "      <td>0</td>\n",
              "      <td>0</td>\n",
              "      <td>1</td>\n",
              "      <td>1</td>\n",
              "      <td>0</td>\n",
              "      <td>0</td>\n",
              "      <td>0</td>\n",
              "      <td>1</td>\n",
              "      <td>0</td>\n",
              "      <td>0</td>\n",
              "      <td>0</td>\n",
              "      <td>0</td>\n",
              "      <td>0</td>\n",
              "      <td>0</td>\n",
              "      <td>0</td>\n",
              "      <td>0</td>\n",
              "      <td>1</td>\n",
              "      <td>0</td>\n",
              "      <td>0</td>\n",
              "      <td>1</td>\n",
              "      <td>0</td>\n",
              "      <td>0</td>\n",
              "      <td>1</td>\n",
              "      <td>1</td>\n",
              "      <td>0</td>\n",
              "      <td>0</td>\n",
              "      <td>1</td>\n",
              "      <td>0</td>\n",
              "      <td>1</td>\n",
              "      <td>1</td>\n",
              "      <td>0</td>\n",
              "      <td>0</td>\n",
              "      <td>0</td>\n",
              "      <td>0</td>\n",
              "      <td>1</td>\n",
              "      <td>1</td>\n",
              "    </tr>\n",
              "    <tr>\n",
              "      <th>4</th>\n",
              "      <td>1</td>\n",
              "      <td>0</td>\n",
              "      <td>0</td>\n",
              "      <td>0</td>\n",
              "      <td>0</td>\n",
              "      <td>0</td>\n",
              "      <td>0</td>\n",
              "      <td>1</td>\n",
              "      <td>1</td>\n",
              "      <td>0</td>\n",
              "      <td>1</td>\n",
              "      <td>0</td>\n",
              "      <td>0</td>\n",
              "      <td>1</td>\n",
              "      <td>0</td>\n",
              "      <td>0</td>\n",
              "      <td>1</td>\n",
              "      <td>0</td>\n",
              "      <td>0</td>\n",
              "      <td>0</td>\n",
              "      <td>0</td>\n",
              "      <td>0</td>\n",
              "      <td>0</td>\n",
              "      <td>1</td>\n",
              "      <td>0</td>\n",
              "      <td>1</td>\n",
              "      <td>1</td>\n",
              "      <td>0</td>\n",
              "      <td>1</td>\n",
              "      <td>0</td>\n",
              "      <td>0</td>\n",
              "      <td>1</td>\n",
              "      <td>0</td>\n",
              "      <td>0</td>\n",
              "      <td>0</td>\n",
              "      <td>1</td>\n",
              "      <td>1</td>\n",
              "      <td>0</td>\n",
              "      <td>0</td>\n",
              "      <td>0</td>\n",
              "      <td>...</td>\n",
              "      <td>0</td>\n",
              "      <td>1</td>\n",
              "      <td>0</td>\n",
              "      <td>0</td>\n",
              "      <td>1</td>\n",
              "      <td>1</td>\n",
              "      <td>0</td>\n",
              "      <td>0</td>\n",
              "      <td>1</td>\n",
              "      <td>1</td>\n",
              "      <td>0</td>\n",
              "      <td>1</td>\n",
              "      <td>0</td>\n",
              "      <td>1</td>\n",
              "      <td>0</td>\n",
              "      <td>0</td>\n",
              "      <td>1</td>\n",
              "      <td>0</td>\n",
              "      <td>0</td>\n",
              "      <td>1</td>\n",
              "      <td>0</td>\n",
              "      <td>1</td>\n",
              "      <td>0</td>\n",
              "      <td>0</td>\n",
              "      <td>1</td>\n",
              "      <td>1</td>\n",
              "      <td>0</td>\n",
              "      <td>0</td>\n",
              "      <td>0</td>\n",
              "      <td>0</td>\n",
              "      <td>0</td>\n",
              "      <td>1</td>\n",
              "      <td>0</td>\n",
              "      <td>1</td>\n",
              "      <td>0</td>\n",
              "      <td>0</td>\n",
              "      <td>0</td>\n",
              "      <td>1</td>\n",
              "      <td>0</td>\n",
              "      <td>0</td>\n",
              "    </tr>\n",
              "  </tbody>\n",
              "</table>\n",
              "<p>5 rows × 241 columns</p>\n",
              "</div>"
            ],
            "text/plain": [
              "   Q1.A  Q1.B  Q2.A  Q2.B  Q3.A  ...  Q119.A  Q119.B  Q120.A  Q120.B  y\n",
              "0     0     1     0     0     1  ...       0       0       0       1  1\n",
              "1     0     0     0     1     0  ...       0       1       0       0  1\n",
              "2     0     1     1     0     0  ...       0       0       1       0  1\n",
              "3     0     0     0     0     0  ...       0       0       0       1  1\n",
              "4     1     0     0     0     0  ...       0       0       1       0  0\n",
              "\n",
              "[5 rows x 241 columns]"
            ]
          },
          "metadata": {
            "tags": []
          },
          "execution_count": 14
        }
      ]
    },
    {
      "cell_type": "code",
      "metadata": {
        "id": "z8JjGPmKW4KI",
        "outputId": "a8e013c7-a43f-4d7e-a604-67f839de989a",
        "colab": {
          "base_uri": "https://localhost:8080/"
        }
      },
      "source": [
        "# install the library\n",
        "! pip install glmnet"
      ],
      "execution_count": 56,
      "outputs": [
        {
          "output_type": "stream",
          "text": [
            "Reading package lists... Done\n",
            "Building dependency tree       \n",
            "Reading state information... Done\n",
            "libgfortran3 is already the newest version (6.5.0-2ubuntu1~18.04).\n",
            "0 upgraded, 0 newly installed, 0 to remove and 12 not upgraded.\n",
            "Requirement already satisfied: glmnet in /usr/local/lib/python3.6/dist-packages (2.2.1)\n",
            "Requirement already satisfied: scikit-learn>=0.18.0 in /usr/local/lib/python3.6/dist-packages (from glmnet) (0.22.2.post1)\n",
            "Requirement already satisfied: numpy>=1.9.2 in /usr/local/lib/python3.6/dist-packages (from glmnet) (1.18.5)\n",
            "Requirement already satisfied: joblib>=0.14.1 in /usr/local/lib/python3.6/dist-packages (from glmnet) (0.17.0)\n",
            "Requirement already satisfied: scipy>=0.14.1 in /usr/local/lib/python3.6/dist-packages (from glmnet) (1.4.1)\n"
          ],
          "name": "stdout"
        }
      ]
    },
    {
      "cell_type": "markdown",
      "metadata": {
        "id": "Rvbx9OfsTQN0"
      },
      "source": [
        "- `glmnet.LogitNet` fits a series of models using the lasso (alpha = 1) penalty or ridge (alpha = 0) penalty.  \n",
        "- After computing the path of λ values, performance metrics for each value of λ are computed using cross validation. You can customize the number of folds by setting `n_splits`. The default is 3-fold validation. \n",
        "- The value of λ corresponding to the best performing model is saved as the `lambda_max_` attribute and the largest value of λ such that the model performance is within `cut_point* standard_error` of the best scoring model is saved as the `lambda_best_` attribute. By default, `cut_point = 1` which means `lambda_best_` is 1 standard error from the `lambda_max_`.\n",
        "- The `predict` and `predict_proba` methods accept an optional parameter lamb which is used to select which model(s) will be used to make predictions. If `lamb` is omitted, `lambda_best_` is used.\n",
        "- `n_lambda` defines the maximum number of lambda values to compute\n",
        "- `min_lambda_ratio`: In combination with n_lambda, the ratio of the smallest and largest values of lambda computed. The smallers it is, the bigger randge of lambda values the process will compute. The default is `1e-4`. "
      ]
    },
    {
      "cell_type": "code",
      "metadata": {
        "id": "D7br1DhwyxDp"
      },
      "source": [
        "# get predictors and responses\n",
        "trainx = sim_dat.drop(columns = ['y'])\n",
        "trainy = sim_dat['y'].values\n",
        "# change data type from 'int' to 'bool'\n",
        "trainy = trainy == 1\n",
        "\n",
        "# use 10-fold cross validation to fit lasso model\n",
        "# we set the min_lambda_ratio = 1e-1 and you can change this setting to see how the results change accordingly\n",
        "m = glmnet.LogitNet(n_lambda = 100, min_lambda_ratio = 1e-1, alpha = 1, n_splits = 10, random_state = 100)\n",
        "mfit = m.fit(trainx,  trainy)\n",
        "# or probability estimates\n",
        "p = m.predict(trainx)\n",
        "p_prob = m.predict_proba(trainx)"
      ],
      "execution_count": 95,
      "outputs": []
    },
    {
      "cell_type": "code",
      "metadata": {
        "id": "xLSroRu_5onK",
        "outputId": "8c669896-0d11-4df3-e1e1-99892781f53b",
        "colab": {
          "base_uri": "https://localhost:8080/"
        }
      },
      "source": [
        "mfit.lambda_best_"
      ],
      "execution_count": 96,
      "outputs": [
        {
          "output_type": "execute_result",
          "data": {
            "text/plain": [
              "array([0.00994886])"
            ]
          },
          "metadata": {
            "tags": []
          },
          "execution_count": 96
        }
      ]
    },
    {
      "cell_type": "code",
      "metadata": {
        "id": "ZazphG4aXqbz",
        "outputId": "a44c90a0-ec6d-480b-fc08-6c8392268f45",
        "colab": {
          "base_uri": "https://localhost:8080/"
        }
      },
      "source": [
        "auc = metrics.roc_auc_score(sim_dat['y'].values, p_prob[:,1])\n",
        "auc"
      ],
      "execution_count": 97,
      "outputs": [
        {
          "output_type": "execute_result",
          "data": {
            "text/plain": [
              "0.9860526315789473"
            ]
          },
          "metadata": {
            "tags": []
          },
          "execution_count": 97
        }
      ]
    },
    {
      "cell_type": "code",
      "metadata": {
        "id": "8fH_j2M3XgbA",
        "outputId": "769767a2-f2b6-42ab-825d-51236161882e",
        "colab": {
          "base_uri": "https://localhost:8080/",
          "height": 520
        }
      },
      "source": [
        "fpr, tpr, _ = metrics.roc_curve(sim_dat['y'].values, p_prob[:,1])\n",
        "\n",
        "fig = plt.figure(figsize=(10,8))\n",
        "\n",
        "plt.plot(fpr.tolist(), tpr.tolist(),  label=\"AUC={:.2f}\".format(auc))\n",
        "\n",
        "plt.plot([0,1], [0,1], color='orange', linestyle='--')\n",
        "\n",
        "plt.xticks(np.arange(0.0, 1.1, step=0.1))\n",
        "plt.xlabel(\"Flase Positive Rate\", fontsize=15)\n",
        "\n",
        "plt.yticks(np.arange(0.0, 1.1, step=0.1))\n",
        "plt.ylabel(\"True Positive Rate\", fontsize=15)\n",
        "\n",
        "plt.title('ROC Curve Analysis', fontweight='bold', fontsize=15)\n",
        "plt.legend(prop={'size':13}, loc='lower right')\n",
        "\n",
        "plt.show()"
      ],
      "execution_count": 99,
      "outputs": [
        {
          "output_type": "display_data",
          "data": {
            "image/png": "[encoded data removed]",
            "text/plain": [
              "<Figure size 720x576 with 1 Axes>"
            ]
          },
          "metadata": {
            "tags": [],
            "needs_background": "light"
          }
        }
      ]
    },
    {
      "cell_type": "markdown",
      "metadata": {
        "id": "O8Hrz6tNZVtn"
      },
      "source": [
        "## Group lasso logistic regression"
      ]
    },
    {
      "cell_type": "markdown",
      "metadata": {
        "id": "xtvFL_0ldbbr"
      },
      "source": [
        "The `pyglmnet` package can apply group lasso regularization."
      ]
    },
    {
      "cell_type": "code",
      "metadata": {
        "id": "fLoeJinOdsG-",
        "outputId": "a0f1af78-a2dd-4905-d611-4b8c03757c4d",
        "colab": {
          "base_uri": "https://localhost:8080/"
        }
      },
      "source": [
        "!pip install pyglmnet"
      ],
      "execution_count": 101,
      "outputs": [
        {
          "output_type": "stream",
          "text": [
            "Collecting pyglmnet\n",
            "  Downloading https://files.pythonhosted.org/packages/43/d8/9244c82dbe764d20247845caeb8130a25affa1dc844e419a17291a8061ae/pyglmnet-1.1-py3-none-any.whl\n",
            "Installing collected packages: pyglmnet\n",
            "Successfully installed pyglmnet-1.1\n"
          ],
          "name": "stdout"
        }
      ]
    },
    {
      "cell_type": "code",
      "metadata": {
        "id": "JDHtUWM-Xkq4"
      },
      "source": [
        "from pyglmnet import GLMCV\n",
        "from pyglmnet.datasets import fetch_group_lasso_datasets\n",
        "import matplotlib.pyplot as plt"
      ],
      "execution_count": 102,
      "outputs": []
    },
    {
      "cell_type": "code",
      "metadata": {
        "id": "ycRoSnMLdqxL"
      },
      "source": [
        "# get predictors and responses\n",
        "trainx = sim_dat.drop(columns = ['y'])\n",
        "\n",
        "# get group index\n",
        "names = trainx.columns.to_list()\n",
        "trainx = trainx.values\n",
        "group_idxs = [int(names[i][1]) for i in range(len(names))]\n",
        "group_idxs[:10]\n",
        "\n",
        "trainy = sim_dat['y'].values\n",
        "# change data type from 'int' to 'bool'\n",
        "trainy = trainy == 1"
      ],
      "execution_count": 132,
      "outputs": []
    },
    {
      "cell_type": "code",
      "metadata": {
        "id": "MQHSL_4rdzq9",
        "outputId": "43ee637a-2bc8-4676-d7ac-2e758d0f9917",
        "colab": {
          "base_uri": "https://localhost:8080/"
        }
      },
      "source": [
        "# set up the group lasso GLM model\n",
        "gl_glm = GLMCV(distr=\"binomial\", tol=1e-3,\n",
        "               group=group_idxs, score_metric=\"deviance\",\n",
        "               alpha=1.0, max_iter=100, cv=10, verbose=True)\n",
        "print(\"gl_glm: \", gl_glm)"
      ],
      "execution_count": 140,
      "outputs": [
        {
          "output_type": "stream",
          "text": [
            "gl_glm:  <\n",
            "Distribution | binomial\n",
            "alpha | 1.00\n",
            "max_iter | 100.00\n",
            "lambda: 0.50 to 0.01\n",
            ">\n"
          ],
          "name": "stdout"
        }
      ]
    },
    {
      "cell_type": "code",
      "metadata": {
        "id": "Y9R4fI6-d7UR"
      },
      "source": [
        "# predict probability\n",
        "ypred_prob = gl_glm.predict_proba(trainx)"
      ],
      "execution_count": 136,
      "outputs": []
    },
    {
      "cell_type": "code",
      "metadata": {
        "id": "ywmwXXk5d9zE",
        "outputId": "387e363c-3251-4599-f059-e9ea0d84fbc1",
        "colab": {
          "base_uri": "https://localhost:8080/"
        }
      },
      "source": [
        "# check auc\n",
        "auc = metrics.roc_auc_score(sim_dat['y'].values, ypred_prob)\n",
        "auc "
      ],
      "execution_count": 139,
      "outputs": [
        {
          "output_type": "execute_result",
          "data": {
            "text/plain": [
              "0.9529260651629073"
            ]
          },
          "metadata": {
            "tags": []
          },
          "execution_count": 139
        }
      ]
    },
    {
      "cell_type": "code",
      "metadata": {
        "id": "9GE0SWQjeEwz"
      },
      "source": [
        ""
      ],
      "execution_count": null,
      "outputs": []
    }
  ]
}