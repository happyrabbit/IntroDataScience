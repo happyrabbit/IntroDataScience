{
  "nbformat": 4,
  "nbformat_minor": 0,
  "metadata": {
    "colab": {
      "name": "MINST-with-one-hidden-layer.ipynb",
      "provenance": [],
      "collapsed_sections": [],
      "toc_visible": true,
      "authorship_tag": "ABX9TyOuOC0kTs5Q+JGYsmKKUCEE",
      "include_colab_link": true
    },
    "kernelspec": {
      "display_name": "Python 3",
      "name": "python3"
    }
  },
  "cells": [
    {
      "cell_type": "markdown",
      "metadata": {
        "id": "view-in-github",
        "colab_type": "text"
      },
      "source": [
        "<a href=\"https://colab.research.google.com/github/happyrabbit/IntroDataScience/blob/master/Python/MINST_with_one_hidden_layer.ipynb\" target=\"_parent\"><img src=\"https://colab.research.google.com/assets/colab-badge.svg\" alt=\"Open In Colab\"/></a>"
      ]
    },
    {
      "cell_type": "markdown",
      "metadata": {
        "id": "wIstG9VsPyb2"
      },
      "source": [
        "# 01-Packages\n",
        "\n",
        "Import packages for the notebook."
      ]
    },
    {
      "cell_type": "code",
      "metadata": {
        "id": "2e5WqQGj2tlo"
      },
      "source": [
        "import numpy as np\n",
        "import math\n",
        "from tensorflow.keras.utils import to_categorical\n",
        "from tensorflow.keras.datasets import mnist\n",
        "from tensorflow.keras.models import Sequential\n",
        "from tensorflow.keras.layers import Dense, Flatten, Dropout\n",
        "import matplotlib.pyplot as plt"
      ],
      "execution_count": 1,
      "outputs": []
    },
    {
      "cell_type": "markdown",
      "metadata": {
        "id": "9-m2iScR3RvE"
      },
      "source": [
        "# 02-Load Data\n",
        "\n",
        "Let's load the MINST data set. "
      ]
    },
    {
      "cell_type": "code",
      "metadata": {
        "id": "QgbepWh429f2",
        "outputId": "4d8be34f-e073-4c46-a19b-0684a3b41ad2",
        "colab": {
          "base_uri": "https://localhost:8080/",
          "height": 51
        }
      },
      "source": [
        "(X_train, y_train), (X_test, y_test) = mnist.load_data()\n",
        "\n",
        "img_width = X_train.shape[1]\n",
        "img_height = X_train.shape[2]\n",
        "\n",
        "# one hot encode outputs\n",
        "y_train = to_categorical(y_train)\n",
        "y_test = to_categorical(y_test)"
      ],
      "execution_count": 2,
      "outputs": [
        {
          "output_type": "stream",
          "text": [
            "Downloading data from https://storage.googleapis.com/tensorflow/tf-keras-datasets/mnist.npz\n",
            "11493376/11490434 [==============================] - 0s 0us/step\n"
          ],
          "name": "stdout"
        }
      ]
    },
    {
      "cell_type": "code",
      "metadata": {
        "id": "dTRwGbNJ4Faj",
        "outputId": "ef43e6b4-bb24-4d8d-d2d3-3b3deec11556",
        "colab": {
          "base_uri": "https://localhost:8080/",
          "height": 102
        }
      },
      "source": [
        "print('The shape of X_train is: ' + str(X_train.shape)) \n",
        "print('The shape of y_train is: ' + str(y_train.shape)) \n",
        "print('The shape of X_test is: ' + str(X_test.shape)) \n",
        "print('The shape of y_test is: ' + str(y_test.shape))\n",
        "print('I have %d traning and %d testing examples!' %(X_train.shape[0], X_test.shape[0])) "
      ],
      "execution_count": 3,
      "outputs": [
        {
          "output_type": "stream",
          "text": [
            "The shape of X_train is: (60000, 28, 28)\n",
            "The shape of y_train is: (60000, 10)\n",
            "The shape of X_test is: (10000, 28, 28)\n",
            "The shape of y_test is: (10000, 10)\n",
            "I have 60000 traning and 10000 testing examples!\n"
          ],
          "name": "stdout"
        }
      ]
    },
    {
      "cell_type": "markdown",
      "metadata": {
        "id": "Qq1P18bhWT3A"
      },
      "source": [
        "Check some of the input images "
      ]
    },
    {
      "cell_type": "code",
      "metadata": {
        "id": "7hsXDMtEWc-C",
        "outputId": "09ca19b6-d3f2-49fc-e416-af6495b51937",
        "colab": {
          "base_uri": "https://localhost:8080/",
          "height": 282
        }
      },
      "source": [
        "# assign the number of the image to show\n",
        "img_id = 10\n",
        "plt.imshow(X_train[img_id], cmap='gray')\n",
        "print(\"Label: \"+ str(np.where(y_train[img_id] ==1)[0]))"
      ],
      "execution_count": 4,
      "outputs": [
        {
          "output_type": "stream",
          "text": [
            "Label: [3]\n"
          ],
          "name": "stdout"
        },
        {
          "output_type": "display_data",
          "data": {
            "image/png": "[encoded data removed]",
            "text/plain": [
              "<Figure size 432x288 with 1 Axes>"
            ]
          },
          "metadata": {
            "tags": [],
            "needs_background": "light"
          }
        }
      ]
    },
    {
      "cell_type": "markdown",
      "metadata": {
        "id": "ZH2gGO_yRfW4"
      },
      "source": [
        "Scale and reshape the inputs and outputs."
      ]
    },
    {
      "cell_type": "code",
      "metadata": {
        "id": "og6T69tsP-OD",
        "outputId": "5d9eaa18-3995-4f31-c14b-4ce3d571b22a",
        "colab": {
          "base_uri": "https://localhost:8080/",
          "height": 85
        }
      },
      "source": [
        "# Scale the input\n",
        "X_train = X_train / 255.\n",
        "X_test = X_test / 255.\n",
        "\n",
        "# Flatten the input\n",
        "X_train = np.array([X_train[i].flatten() for i in range(0,X_train.shape[0])])\n",
        "X_test = np.array([X_test[i].flatten() for i in range(0,X_test.shape[0])])\n",
        "\n",
        "# Reshape the input and output\n",
        "X_train = X_train.T\n",
        "X_test = X_test.T\n",
        "y_train = y_train.T\n",
        "y_test = y_test.T\n",
        "\n",
        "print('The shape of X_train is: ' + str(X_train.shape)) \n",
        "print('The shape of y_train is: ' + str(y_train.shape)) \n",
        "print('The shape of X_test is: ' + str(X_test.shape)) \n",
        "print('The shape of y_test is: ' + str(y_test.shape))"
      ],
      "execution_count": 5,
      "outputs": [
        {
          "output_type": "stream",
          "text": [
            "The shape of X_train is: (784, 60000)\n",
            "The shape of y_train is: (10, 60000)\n",
            "The shape of X_test is: (784, 10000)\n",
            "The shape of y_test is: (10, 10000)\n"
          ],
          "name": "stdout"
        }
      ]
    },
    {
      "cell_type": "markdown",
      "metadata": {
        "id": "dfufnet5VBPQ"
      },
      "source": [
        "# 03-One Hidden Layer Neural Network\n",
        "<center><img src=\"https://raw.githubusercontent.com/happyrabbit/course2020/master/slides/02DeepLearning/DNN/images/1hiddenexp.png\" width=\"700\"/></center>\n"
      ]
    },
    {
      "cell_type": "markdown",
      "metadata": {
        "id": "VPgV2WF7Do4I"
      },
      "source": [
        "## 03.1-Defining the neural network structure\n",
        "\n",
        "- `n_x` -- the size of the input layer\n",
        "- `n_h` -- the size of the hidden layer\n",
        "- `n_y` -- the size of the output layer\n"
      ]
    },
    {
      "cell_type": "markdown",
      "metadata": {
        "id": "Sa4lvy8dCx8B"
      },
      "source": [
        "## 03.2- Initialize the model's parameters\n",
        "\n",
        "- Initialize the weights matrices, $W_1$ and $W_2$, with random values.\n",
        "- Initialize the bias vectors, $b_1$ and $b_2$, as zeros."
      ]
    },
    {
      "cell_type": "code",
      "metadata": {
        "id": "DGbe96XiQhW2"
      },
      "source": [
        "def initialize_parameters(n_x, n_h, n_y):\n",
        "    \"\"\"\n",
        "    Argument:\n",
        "    n_x -- size of the input layer\n",
        "    n_h -- size of the hidden layer\n",
        "    n_y -- size of the output layer\n",
        "    \n",
        "    Returns:\n",
        "    params -- python dictionary containing your parameters:\n",
        "                    W1 -- weight matrix of shape (n_h, n_x)\n",
        "                    b1 -- bias vector of shape (n_h, 1)\n",
        "                    W2 -- weight matrix of shape (n_y, n_h)\n",
        "                    b2 -- bias vector of shape (n_y, 1)\n",
        "    \"\"\"\n",
        "        \n",
        "    W1 = np.random.randn(n_h, n_x) * 0.001\n",
        "    b1 = np.zeros(shape=(n_h, 1))\n",
        "    W2 = np.random.randn(n_y, n_h) * 0.001\n",
        "    b2 = np.zeros(shape=(n_y, 1))\n",
        "    \n",
        "    assert (W1.shape == (n_h, n_x))\n",
        "    assert (b1.shape == (n_h, 1))\n",
        "    assert (W2.shape == (n_y, n_h))\n",
        "    assert (b2.shape == (n_y, 1))\n",
        "    \n",
        "    parameters = {\"W1\": W1,\n",
        "                  \"b1\": b1,\n",
        "                  \"W2\": W2,\n",
        "                  \"b2\": b2}\n",
        "    \n",
        "    return parameters"
      ],
      "execution_count": 6,
      "outputs": []
    },
    {
      "cell_type": "markdown",
      "metadata": {
        "id": "Duea8jLXHMEm"
      },
      "source": [
        "## 03.3-Defining Activation Functions and the Gradients\n",
        "\n",
        "![](https://raw.githubusercontent.com/happyrabbit/course2020/master/slides/02DeepLearning/DNN/images/activation.png)"
      ]
    },
    {
      "cell_type": "code",
      "metadata": {
        "id": "hbupxz65Hm6S"
      },
      "source": [
        "def ReLU(Z1):\n",
        "    \"\"\"\n",
        "    Argument:\n",
        "    Z1 -- the input of hidden layer activation function\n",
        "    \n",
        "    Returns:\n",
        "    A1 -- activations from the hidden layer\n",
        "    \"\"\"\n",
        "    A1 = np.maximum(Z1, 0)\n",
        "    return A1\n",
        "\n",
        "def ReLU_dev(Z1):\n",
        "    \"\"\"\n",
        "    Argument:\n",
        "    Z1 -- the input of hidden layer activation function\n",
        "    \n",
        "    Returns:\n",
        "    dZ1 -- gradient of ReLU given input Z1\n",
        "    \"\"\"\n",
        "    positive = Z1 > 0\n",
        "    dZ1 = np.zeros(Z1.shape)\n",
        "    dZ1[positive] = 1\n",
        "    return dZ1\n",
        "\n",
        "def softmax(Z2):\n",
        "    \"\"\"\n",
        "    Argument:\n",
        "    Z2 -- the input of output layer activation function\n",
        "    \n",
        "    Returns:\n",
        "    A2 -- activations from the hidden layer\n",
        "    \"\"\"\n",
        "    exp_scores = np.exp(Z2 - Z2.max(axis = 0, keepdims=True))\n",
        "    A2 = exp_scores / exp_scores.sum(axis = 0, keepdims=True)\n",
        "    return A2"
      ],
      "execution_count": 7,
      "outputs": []
    },
    {
      "cell_type": "markdown",
      "metadata": {
        "id": "YkS9OaatW8NF"
      },
      "source": [
        "## 03.4-Loss and Accuracy\n"
      ]
    },
    {
      "cell_type": "code",
      "metadata": {
        "id": "f8Cskf4wWdcH"
      },
      "source": [
        "def compute_cost(A2, Y, parameters):\n",
        "    \"\"\"\n",
        "    Computes the cross-entropy cost given in equation (13)\n",
        "    \n",
        "    Arguments:\n",
        "    A2 -- The sigmoid output of the second activation, of shape (10, number of examples)\n",
        "    Y -- \"true\" labels vector of shape (10, number of examples)\n",
        "    parameters -- python dictionary containing your parameters W1, b1, W2 and b2\n",
        "    \n",
        "    Returns:\n",
        "    cost -- cross-entropy cost given equation (13)\n",
        "    \"\"\"\n",
        "    m = Y.shape[1] # number of example\n",
        "    # Retrieve W1 and W2 from parameters\n",
        "    W1 = parameters['W1']\n",
        "    W2 = parameters['W2']\n",
        "    \n",
        "    # Compute the cross-entropy cost\n",
        "    logprobs = np.multiply(np.log(A2), Y)\n",
        "    cost = - np.sum(logprobs) / m\n",
        "    \n",
        "    cost = np.squeeze(cost)     # makes sure cost is the dimension we expect. \n",
        "                                # E.g., turns [[17]] into 17 \n",
        "    assert(isinstance(cost, float))\n",
        "    return cost"
      ],
      "execution_count": 8,
      "outputs": []
    },
    {
      "cell_type": "markdown",
      "metadata": {
        "id": "V4hoXxx9FLw4"
      },
      "source": [
        "## 03.5-Forward Propagation\n",
        "\n",
        "Forward and backward propagation.\n",
        "\n",
        "![](https://raw.githubusercontent.com/happyrabbit/course2020/master/slides/02DeepLearning/DNN/images/1hiddenfb_math.png)"
      ]
    },
    {
      "cell_type": "code",
      "metadata": {
        "id": "ujmmyE0CEysi"
      },
      "source": [
        "def forward_propagation(X, parameters):\n",
        "    \"\"\"\n",
        "    Argument:\n",
        "    X -- input data of size (n_x, m)\n",
        "    parameters -- python dictionary containing your parameters (output of initialization function)\n",
        "    \n",
        "    Returns:\n",
        "    A2 -- The sigmoid output of the second activation\n",
        "    cache -- a dictionary containing \"Z1\", \"A1\", \"Z2\" and \"A2\"\n",
        "    \"\"\"\n",
        "    # Retrieve each parameter from the dictionary \"parameters\"\n",
        "    W1 = parameters['W1']\n",
        "    b1 = parameters['b1']\n",
        "    W2 = parameters['W2']\n",
        "    b2 = parameters['b2']\n",
        "    \n",
        "    # Implement Forward Propagation to calculate A2 (probabilities)\n",
        "    Z1 = np.dot(W1, X) + b1\n",
        "    A1 = ReLU(Z1)\n",
        "    Z2 = np.dot(W2, A1) + b2\n",
        "    A2 = softmax(Z2)\n",
        "    \n",
        "    assert(A2.shape == (10, X.shape[1]))\n",
        "    \n",
        "    cache = {\"Z1\": Z1,\n",
        "             \"A1\": A1,\n",
        "             \"Z2\": Z2,\n",
        "             \"A2\": A2}\n",
        "    \n",
        "    return A2, cache"
      ],
      "execution_count": 9,
      "outputs": []
    },
    {
      "cell_type": "markdown",
      "metadata": {
        "id": "OdQpBDdnaQIO"
      },
      "source": [
        "## 03.6-Backward Propagation"
      ]
    },
    {
      "cell_type": "code",
      "metadata": {
        "id": "y8KONXGME3Y_"
      },
      "source": [
        "def backward_propagation(parameters, cache, X, Y):\n",
        "    \"\"\"\n",
        "    Implement the backward propagation using the instructions above.\n",
        "    \n",
        "    Arguments:\n",
        "    parameters -- python dictionary containing our parameters \n",
        "    cache -- a dictionary containing \"Z1\", \"A1\", \"Z2\" and \"A2\".\n",
        "    X -- input data of shape (784, number of examples)\n",
        "    Y -- \"true\" labels vector of shape (10, number of examples)\n",
        "    \n",
        "    Returns:\n",
        "    grads -- python dictionary containing your gradients with respect to different parameters\n",
        "    \"\"\"\n",
        "    m = X.shape[1]\n",
        "    \n",
        "    # First, retrieve W1 and W2 from the dictionary \"parameters\".\n",
        "    W1 = parameters['W1']\n",
        "    W2 = parameters['W2']\n",
        "        \n",
        "    # Retrieve also A1 and A2 from dictionary \"cache\".\n",
        "    A1 = cache['A1']\n",
        "    A2 = cache['A2']\n",
        "    Z1 = cache['Z1']\n",
        "    Z2 = cache['Z2']\n",
        "    \n",
        "    # Backward propagation: calculate dW1, db1, dW2, db2. \n",
        "    dZ2= A2 - Y\n",
        "    dW2 = (1 / m) * np.dot(dZ2, A1.T)\n",
        "    db2 = (1 / m) * np.sum(dZ2, axis=1, keepdims=True)\n",
        "    dZ1 = np.multiply(np.dot(W2.T, dZ2), ReLU_dev(Z1))\n",
        "    dW1 = (1 / m) * np.dot(dZ1, X.T)\n",
        "    db1 = (1 / m) * np.sum(dZ1, axis=1, keepdims=True)\n",
        "    \n",
        "    grads = {\"dW1\": dW1,\n",
        "             \"db1\": db1,\n",
        "             \"dW2\": dW2,\n",
        "             \"db2\": db2}\n",
        "    \n",
        "    return grads"
      ],
      "execution_count": 10,
      "outputs": []
    },
    {
      "cell_type": "code",
      "metadata": {
        "id": "WyVadBizc4Kc"
      },
      "source": [
        "def update_parameters(parameters, grads, learning_rate= 0.1, l2 = 0):\n",
        "    \"\"\"\n",
        "    Updates parameters using the gradient descent update rule given above\n",
        "    \n",
        "    Arguments:\n",
        "    parameters -- python dictionary containing your parameters \n",
        "    grads -- python dictionary containing your gradients \n",
        "    learning_rate -- a number between 0 to 1\n",
        "    l2 -- parameter for l2 penality, a number >= 0\n",
        "    \n",
        "    Returns:\n",
        "    parameters -- python dictionary containing your updated parameters \n",
        "    \"\"\"\n",
        "    # Retrieve each parameter from the dictionary \"parameters\"\n",
        "    W1 = parameters['W1']\n",
        "    b1 = parameters['b1']\n",
        "    W2 = parameters['W2']\n",
        "    b2 = parameters['b2']\n",
        "    \n",
        "    # Retrieve each gradient from the dictionary \"grads\"\n",
        "    dW1 = grads['dW1'] + np.sum(l2*W1)\n",
        "    db1 = grads['db1'] \n",
        "    dW2 = grads['dW2'] + np.sum(l2*W2)\n",
        "    db2 = grads['db2'] \n",
        "    \n",
        "    # Update rule for each parameter\n",
        "    W1 = W1 - learning_rate * dW1\n",
        "    b1 = b1 - learning_rate * db1\n",
        "    W2 = W2 - learning_rate * dW2\n",
        "    b2 = b2 - learning_rate * db2\n",
        "    \n",
        "    parameters = {\"W1\": W1,\n",
        "                  \"b1\": b1,\n",
        "                  \"W2\": W2,\n",
        "                  \"b2\": b2}\n",
        "    \n",
        "    return parameters"
      ],
      "execution_count": 11,
      "outputs": []
    },
    {
      "cell_type": "markdown",
      "metadata": {
        "id": "NON-Sf9QdFnb"
      },
      "source": [
        "# 04-Optimization Methods\n"
      ]
    },
    {
      "cell_type": "markdown",
      "metadata": {
        "id": "LmZPoEA2MMHS"
      },
      "source": [
        "## 04.1-Stochastic Gradient Descent (SGD) "
      ]
    },
    {
      "cell_type": "code",
      "metadata": {
        "id": "QtghT07DdOCA"
      },
      "source": [
        "def nn_model(X, Y, n_h, num_iterations=10000, print_cost=False, learning_rate= 0.1, l2 = 0):\n",
        "    \"\"\"\n",
        "    Arguments:\n",
        "    X -- dataset of shape (784, number of examples)\n",
        "    Y -- labels of shape (10, number of examples)\n",
        "    n_h -- size of the hidden layer\n",
        "    num_iterations -- Number of iterations in gradient descent loop\n",
        "    print_cost -- if True, print the cost every 1000 iterations\n",
        "    learning_rate -- a number between 0 to 1\n",
        "    l2 -- parameter for l2 penality, a number >= 0\n",
        "    \n",
        "    Returns:\n",
        "    parameters -- parameters learnt by the model. They can then be used to predict.\n",
        "    costs -- a list of cost per 100 interations\n",
        "    \"\"\"\n",
        "    \n",
        "    np.random.seed(1)\n",
        "    n_x = X.shape[0]\n",
        "    n_y = Y.shape[0]\n",
        "    costs = []\n",
        "    \n",
        "    # Initialize parameters, then retrieve W1, b1, W2, b2. Inputs: \"n_x, n_h, n_y\". Outputs = \"W1, b1, W2, b2, parameters\".\n",
        "    parameters = initialize_parameters(n_x, n_h, n_y)\n",
        "    W1 = parameters['W1']\n",
        "    b1 = parameters['b1']\n",
        "    W2 = parameters['W2']\n",
        "    b2 = parameters['b2']\n",
        "    \n",
        "    # Loop (gradient descent)\n",
        "\n",
        "    for i in range(0, num_iterations):\n",
        "         \n",
        "        # Forward propagation. Inputs: \"X, parameters\". Outputs: \"A2, cache\".\n",
        "        A2, cache = forward_propagation(X, parameters)\n",
        "        \n",
        "        # Cost function. Inputs: \"A2, Y, parameters\". Outputs: \"cost\".\n",
        "        cost = compute_cost(A2, Y, parameters)\n",
        " \n",
        "        # Backpropagation. Inputs: \"parameters, cache, X, Y\". Outputs: \"grads\".\n",
        "        grads = backward_propagation(parameters, cache, X, Y)\n",
        "        \n",
        "        # Gradient descent parameter update. Inputs: \"parameters, grads\". Outputs: \"parameters\".\n",
        "        parameters = update_parameters(parameters, grads, learning_rate= learning_rate, l2 = l2)\n",
        "        \n",
        "        # Print the cost every 1000 iterations\n",
        "        if print_cost and i % 1000 == 0:\n",
        "          print (\"Cost after iteration %i: %f\" % (i, cost))\n",
        "        if i % 100 == 0:\n",
        "          costs.append(cost)\n",
        "\n",
        "    return parameters, costs"
      ],
      "execution_count": null,
      "outputs": []
    },
    {
      "cell_type": "code",
      "metadata": {
        "id": "jb5eD9qOduZK",
        "outputId": "0600bc01-b4d2-4d67-c54c-4431d9fb191c",
        "colab": {
          "base_uri": "https://localhost:8080/",
          "height": 187
        }
      },
      "source": [
        "# Build a model with a n_h-dimensional hidden layer\n",
        "parameters, costs = nn_model(X_train, y_train, n_h = 4, num_iterations=10000, print_cost=True)"
      ],
      "execution_count": null,
      "outputs": [
        {
          "output_type": "stream",
          "text": [
            "Cost after iteration 0: 2.302587\n",
            "Cost after iteration 1000: 0.565407\n",
            "Cost after iteration 2000: 0.499799\n",
            "Cost after iteration 3000: 0.479786\n",
            "Cost after iteration 4000: 0.466273\n",
            "Cost after iteration 5000: 0.454446\n",
            "Cost after iteration 6000: 0.444719\n",
            "Cost after iteration 7000: 0.437433\n",
            "Cost after iteration 8000: 0.431851\n",
            "Cost after iteration 9000: 0.427439\n"
          ],
          "name": "stdout"
        }
      ]
    },
    {
      "cell_type": "code",
      "metadata": {
        "id": "vgv_l_WfDoce",
        "outputId": "0738ad84-32b7-47d6-db9f-a4fa53dc7b9f",
        "colab": {
          "base_uri": "https://localhost:8080/",
          "height": 279
        }
      },
      "source": [
        "# plot the cost\n",
        "plt.plot(costs)\n",
        "plt.ylabel('cost')\n",
        "plt.xlabel('epochs (per 100)')\n",
        "plt.show()"
      ],
      "execution_count": null,
      "outputs": [
        {
          "output_type": "display_data",
          "data": {
            "image/png": "[encoded data removed]",
            "text/plain": [
              "<Figure size 432x288 with 1 Axes>"
            ]
          },
          "metadata": {
            "tags": []
          }
        }
      ]
    },
    {
      "cell_type": "code",
      "metadata": {
        "id": "jmVWTypFYLI1"
      },
      "source": [
        "def predict(parameters, X):\n",
        "    \"\"\"\n",
        "    Using the learned parameters, predicts a class for each example in X\n",
        "    \n",
        "    Arguments:\n",
        "    parameters -- python dictionary containing your parameters \n",
        "    X -- input data of size (n_x, m)\n",
        "    \n",
        "    Returns\n",
        "    predictions -- vector of predictions of our model\n",
        "    \"\"\"\n",
        "    \n",
        "    # Computes probabilities using forward propagation, and classifies to 0/1 using 0.5 as the threshold.\n",
        "    A2, cache = forward_propagation(X, parameters)\n",
        "\n",
        "    predictions = np.argmax(A2, axis = 0)\n",
        "    return predictions"
      ],
      "execution_count": null,
      "outputs": []
    },
    {
      "cell_type": "code",
      "metadata": {
        "id": "rdGHLTyTI6Gs",
        "outputId": "a840d99b-41a0-4d5d-e837-c52371b8e6d1",
        "colab": {
          "base_uri": "https://localhost:8080/",
          "height": 34
        }
      },
      "source": [
        "yhat_test = predict(parameters, X_test)\n",
        "y = np.argmax(y_test, axis = 0)\n",
        "np.mean(yhat_test == y)"
      ],
      "execution_count": null,
      "outputs": [
        {
          "output_type": "execute_result",
          "data": {
            "text/plain": [
              "0.873"
            ]
          },
          "metadata": {
            "tags": []
          },
          "execution_count": 34
        }
      ]
    },
    {
      "cell_type": "markdown",
      "metadata": {
        "id": "9Xx-OKoSExSy"
      },
      "source": [
        "## 04.2-Mini-Batch Gradient Descent\n",
        "\n",
        "![](https://raw.githubusercontent.com/happyrabbit/course2020/master/slides/02DeepLearning/DNN/images/batchexp.png)\n",
        "\n",
        "Let's update the parameters using mini-batches gradient descent."
      ]
    },
    {
      "cell_type": "code",
      "metadata": {
        "id": "ENpD3RL8ZWMq"
      },
      "source": [
        "def random_mini_batches(X, Y, mini_batch_size = 64):\n",
        "    \"\"\"\n",
        "    Creates a list of random minibatches from (X, Y)\n",
        "    \n",
        "    Arguments:\n",
        "    X -- input data, of shape (input size, number of examples)\n",
        "    Y -- true \"label\" of shape (10, number of examples)\n",
        "    mini_batch_size -- size of the mini-batches, integer\n",
        "    \n",
        "    Returns:\n",
        "    mini_batches -- list of synchronous (mini_batch_X, mini_batch_Y)\n",
        "    \"\"\"\n",
        "    \n",
        "    m = X.shape[1]                  # number of training examples\n",
        "    mini_batches = []\n",
        "        \n",
        "    # Step 1: Shuffle (X, Y)\n",
        "    permutation = list(np.random.permutation(m))\n",
        "    shuffled_X = X[:, permutation]\n",
        "    shuffled_Y = Y[:, permutation]\n",
        "\n",
        "    # Step 2: Partition (shuffled_X, shuffled_Y). Minus the end case.\n",
        "    num_complete_minibatches = math.floor(m/mini_batch_size) # number of mini batches of size mini_batch_size in your partitionning\n",
        "    for k in range(0, num_complete_minibatches):\n",
        "        mini_batch_X = shuffled_X[:,k * mini_batch_size:(k + 1) * mini_batch_size]\n",
        "        mini_batch_Y = shuffled_Y[:,k * mini_batch_size:(k + 1) * mini_batch_size]\n",
        "        mini_batch = (mini_batch_X, mini_batch_Y)\n",
        "        mini_batches.append(mini_batch)\n",
        "    \n",
        "    # Handling the end case (last mini-batch < mini_batch_size)\n",
        "    if m % mini_batch_size != 0:\n",
        "        end = m - mini_batch_size * math.floor(m / mini_batch_size)\n",
        "        mini_batch_X = shuffled_X[:,num_complete_minibatches * mini_batch_size:]\n",
        "        mini_batch_Y = shuffled_Y[:,num_complete_minibatches * mini_batch_size:]\n",
        "        mini_batch = (mini_batch_X, mini_batch_Y)\n",
        "        mini_batches.append(mini_batch)\n",
        "    \n",
        "    return mini_batches"
      ],
      "execution_count": 12,
      "outputs": []
    },
    {
      "cell_type": "code",
      "metadata": {
        "id": "blDQeacfGmA0"
      },
      "source": [
        "def model(X, Y, n_h = 4,  learning_rate= 0.1, l2 = 0, mini_batch_size=64, num_epochs=20, print_cost=True):\n",
        "    \"\"\"\n",
        "    3-layer neural network model which can be run in different optimizer modes.\n",
        "    \n",
        "    Arguments:\n",
        "    X -- input data, of shape (784, number of examples)\n",
        "    Y -- true \"label\" of shape (10, number of examples)\n",
        "    layers_dims -- python list, containing the size of each layer\n",
        "    learning_rate -- the learning rate, scalar.\n",
        "    l2 -- l2 panalty parameter\n",
        "    mini_batch_size -- the size of a mini batch\n",
        "    num_epochs -- number of epochs\n",
        "    print_cost -- True to print the cost every 1000 epochs\n",
        "\n",
        "    Returns:\n",
        "    parameters -- python dictionary containing your updated parameters\n",
        "    costs -- a list of cost per 100 epoch \n",
        "    \"\"\"\n",
        "\n",
        "    costs = []  # to keep track of the cost\n",
        "    n_x = X.shape[0]\n",
        "    n_y = Y.shape[0]\n",
        "    \n",
        "    # Initialize parameters\n",
        "    parameters = initialize_parameters(n_x, n_h, n_y)\n",
        "    \n",
        "    # Optimization loop\n",
        "    for i in range(num_epochs):\n",
        "        \n",
        "        # Define the random minibatches. We increment the seed to reshuffle differently the dataset after each epoch\n",
        "        minibatches = random_mini_batches(X, Y, mini_batch_size)\n",
        "\n",
        "        for minibatch in minibatches:\n",
        "\n",
        "            # Select a minibatch\n",
        "            (minibatch_X, minibatch_Y) = minibatch\n",
        "            \n",
        "            # Forward propagation. Inputs: \"X, parameters\". Outputs: \"A2, cache\".\n",
        "            A2, cache = forward_propagation(X, parameters)\n",
        "            \n",
        "            # Cost function. Inputs: \"A2, Y, parameters\". Outputs: \"cost\".\n",
        "            cost = compute_cost(A2, Y, parameters)\n",
        "            \n",
        "            # Backpropagation. Inputs: \"parameters, cache, X, Y\". Outputs: \"grads\".\n",
        "            grads = backward_propagation(parameters, cache, X, Y)\n",
        " \n",
        "            # Gradient descent parameter update. Inputs: \"parameters, grads\". Outputs: \"parameters\".\n",
        "            parameters = update_parameters(parameters, grads, learning_rate= learning_rate, l2 = l2)\n",
        "        \n",
        "        if print_cost:\n",
        "            print(\"Cost after epoch %i: %f\" % (i, cost))\n",
        "        costs.append(cost)\n",
        "                \n",
        "    # plot the cost\n",
        "    plt.plot(costs)\n",
        "    plt.ylabel('cost')\n",
        "    plt.xlabel('epochs')\n",
        "    plt.title(\"Learning rate = \" + str(learning_rate))\n",
        "    plt.show()\n",
        "\n",
        "    return parameters, costs, dw1s"
      ],
      "execution_count": 34,
      "outputs": []
    },
    {
      "cell_type": "code",
      "metadata": {
        "id": "bgtJmQIJJms3",
        "outputId": "812b9dd6-42fa-43b8-8249-e5d6b3ff890e",
        "colab": {
          "base_uri": "https://localhost:8080/",
          "height": 782
        }
      },
      "source": [
        "parameters, costs = model(X_train, y_train, num_epochs=20)"
      ],
      "execution_count": 35,
      "outputs": [
        {
          "output_type": "stream",
          "text": [
            "Cost after epoch 0: 0.613234\n",
            "Cost after epoch 1: 0.517477\n",
            "Cost after epoch 2: 0.479951\n",
            "Cost after epoch 3: 0.456474\n",
            "Cost after epoch 4: 0.442755\n",
            "Cost after epoch 5: 0.434352\n",
            "Cost after epoch 6: 0.428594\n",
            "Cost after epoch 7: 0.424224\n",
            "Cost after epoch 8: 0.420781\n",
            "Cost after epoch 9: 0.417941\n",
            "Cost after epoch 10: 0.415551\n",
            "Cost after epoch 11: 0.416622\n",
            "Cost after epoch 12: 0.416572\n",
            "Cost after epoch 13: 0.415844\n",
            "Cost after epoch 14: 0.414793\n",
            "Cost after epoch 15: 0.413713\n",
            "Cost after epoch 16: 0.412917\n",
            "Cost after epoch 17: 0.412736\n",
            "Cost after epoch 18: 0.411680\n",
            "Cost after epoch 19: 0.409923\n"
          ],
          "name": "stdout"
        },
        {
          "output_type": "display_data",
          "data": {
            "image/png": "[encoded data removed]",
            "text/plain": [
              "<Figure size 432x288 with 1 Axes>"
            ]
          },
          "metadata": {
            "tags": [],
            "needs_background": "light"
          }
        },
        {
          "output_type": "error",
          "ename": "ValueError",
          "evalue": "ignored",
          "traceback": [
            "\u001b[0;31m---------------------------------------------------------------------------\u001b[0m",
            "\u001b[0;31mValueError\u001b[0m                                Traceback (most recent call last)",
            "\u001b[0;32m<ipython-input-35-d1b6b4804538>\u001b[0m in \u001b[0;36m<module>\u001b[0;34m()\u001b[0m\n\u001b[0;32m----> 1\u001b[0;31m \u001b[0mparameters\u001b[0m\u001b[0;34m,\u001b[0m \u001b[0mcosts\u001b[0m \u001b[0;34m=\u001b[0m \u001b[0mmodel\u001b[0m\u001b[0;34m(\u001b[0m\u001b[0mX_train\u001b[0m\u001b[0;34m,\u001b[0m \u001b[0my_train\u001b[0m\u001b[0;34m,\u001b[0m \u001b[0mnum_epochs\u001b[0m\u001b[0;34m=\u001b[0m\u001b[0;36m20\u001b[0m\u001b[0;34m)\u001b[0m\u001b[0;34m\u001b[0m\u001b[0;34m\u001b[0m\u001b[0m\n\u001b[0m",
            "\u001b[0;31mValueError\u001b[0m: too many values to unpack (expected 2)"
          ]
        }
      ]
    },
    {
      "cell_type": "code",
      "metadata": {
        "id": "ncTf3SUSJ6qX",
        "outputId": "34d6e411-a33f-4198-dd9c-c502ae6e20ca",
        "colab": {
          "base_uri": "https://localhost:8080/",
          "height": 34
        }
      },
      "source": [
        "yhat_test = predict(parameters, X_test)\n",
        "y = np.argmax(y_test, axis = 0)\n",
        "np.mean(yhat_test == y)"
      ],
      "execution_count": null,
      "outputs": [
        {
          "output_type": "execute_result",
          "data": {
            "text/plain": [
              "0.8774"
            ]
          },
          "metadata": {
            "tags": []
          },
          "execution_count": 18
        }
      ]
    },
    {
      "cell_type": "markdown",
      "metadata": {
        "id": "E5OmZx6lAdmn"
      },
      "source": [
        "## 04.3-Momentum\n",
        "\n",
        "Initialize the velocity for momentum optimization."
      ]
    },
    {
      "cell_type": "code",
      "metadata": {
        "id": "E_EPrQenGFoA"
      },
      "source": [
        "def initialize_velocity(parameters):\n",
        "    \"\"\"\n",
        "    Initializes the velocity as a python dictionary with:\n",
        "                - keys: \"dW1\", \"db1\", \"dW2\", \"db2\" \n",
        "                - values: numpy arrays of zeros of the same shape as the corresponding gradients/parameters.\n",
        "    Arguments:\n",
        "    parameters -- python dictionary containing your parameters.\n",
        "    \n",
        "    Returns:\n",
        "    v -- python dictionary containing the current velocity.\n",
        "                    v['dW1'] = velocity of dWl\n",
        "                    v['db1'] = velocity of dbl\n",
        "    \"\"\"\n",
        "    \n",
        "    v = {}\n",
        "    \n",
        "    # Initialize velocity\n",
        "    v[\"dW1\"] = np.zeros_like(parameters[\"W1\"])\n",
        "    v[\"db1\"] = np.zeros_like(parameters[\"b1\"])\n",
        "    v[\"dW2\"] = np.zeros_like(parameters[\"W2\"])\n",
        "    v[\"db2\"] = np.zeros_like(parameters[\"b2\"])\n",
        "    \n",
        "    return v"
      ],
      "execution_count": null,
      "outputs": []
    },
    {
      "cell_type": "markdown",
      "metadata": {
        "id": "xin0AoAQqqj1"
      },
      "source": [
        "Implement the parameters update with momentum. The momentum update rule is:\n",
        "\n",
        "$$V_{dw} = \\beta V_{dw}+(1-\\beta)dw$$\n",
        "\n",
        "$$V_{db} = \\beta V_{db}+(1-\\beta)db$$\n",
        "\n",
        "$$w=w-\\alpha V_{dw};\\ \\ b=b-\\alpha V_{db}$$"
      ]
    },
    {
      "cell_type": "code",
      "metadata": {
        "id": "n_j7RL7ya3mv"
      },
      "source": [
        "def update_parameters_with_momentum(parameters, grads, v, beta, learning_rate):\n",
        "    \"\"\"\n",
        "    Update parameters using Momentum\n",
        "    \n",
        "    Arguments:\n",
        "    parameters -- python dictionary containing your parameters\n",
        "    grads -- python dictionary containing your gradients for each parameters\n",
        "    v -- python dictionary containing the current velocity\n",
        "    beta -- the momentum hyperparameter, scalar\n",
        "    learning_rate -- the learning rate, scalar\n",
        "    \n",
        "    Returns:\n",
        "    parameters -- python dictionary containing your updated parameters \n",
        "    v -- python dictionary containing your updated velocities\n",
        "    \"\"\"\n",
        "\n",
        "    # Momentum update for each parameter\n",
        "    # compute velocities\n",
        "    v[\"dW1\"] = beta * v[\"dW1\"] + (1 - beta) * grads['dW1']\n",
        "    v[\"db1\"] = beta * v[\"db1\"] + (1 - beta) * grads['db1']\n",
        "    v[\"dW2\"] = beta * v[\"dW2\"] + (1 - beta) * grads['dW2']\n",
        "    v[\"db2\"] = beta * v[\"db2\"] + (1 - beta) * grads['db2']\n",
        "    # update parameters\n",
        "    parameters[\"W1\"] = parameters[\"W1\"] - learning_rate * v[\"dW1\"]\n",
        "    parameters[\"b1\"] = parameters[\"b1\"] - learning_rate * v[\"db1\"]\n",
        "    parameters[\"W2\"] = parameters[\"W2\"] - learning_rate * v[\"dW2\"]\n",
        "    parameters[\"b2\"] = parameters[\"b2\"] - learning_rate * v[\"db2\"]\n",
        "        \n",
        "    return parameters, v"
      ],
      "execution_count": null,
      "outputs": []
    },
    {
      "cell_type": "markdown",
      "metadata": {
        "id": "ZGjNYslKJqEt"
      },
      "source": [
        "## 04.4-Adam\n",
        "\n",
        "Adam is one of the most effective optimization algorithms for training neural networks. It combines ideas from RMSProp and Momentum.\n",
        "\n",
        "On iteration t, compute $dw$, $db$ using the current mini-batch.\n",
        "\n",
        "$$\\begin{cases} \\begin{array}{c} V_{dw}=\\beta_{1}V_{dw}+(1-\\beta_{1})dw\\\\ V_{db}=\\beta_{1}V_{db}+(1-\\beta_{1})db \\end{array} & momantum\\ update\\ \\beta_{1}\\end{cases}$$\n",
        "\n",
        "$$\\begin{cases} \\begin{array}{c} S_{dw}=\\beta_{2}S_{dw}+(1-\\beta_{2})dw^{2}\\\\ S_{db}=\\beta_{2}S_{db}+(1-\\beta_{2})db^{2} \\end{array} & RMSprop\\ update\\ \\beta_{2}\\end{cases}$$\n",
        "\n",
        "$$\\begin{cases} \\begin{array}{c} V_{dw}^{corrected}=\\frac{V_{dw}}{1-\\beta_{1}^{t}}\\\\ V_{db}^{corrected}=\\frac{V_{db}}{1-\\beta_{1}^{t}} \\end{array}\\end{cases};\\ \\ \\begin{cases} \\begin{array}{c} S_{dw}^{corrected}=\\frac{S_{dw}}{1-\\beta_{2}^{t}}\\\\ S_{db}^{corrected}=\\frac{S_{db}}{1-\\beta_{2}^{t}} \\end{array}\\end{cases}$$\n",
        "\n",
        "$$w=w-\\alpha \\frac{V_{dw}^{corrected}}{\\sqrt{S_{dw}^{corrected}} +\\epsilon};\\ b=b-\\alpha\\frac{V_{db}^{corrected}}{\\sqrt{S_{db}^{corrected}}+\\epsilon}$$\n",
        "\n",
        "where:\n",
        "\n",
        "- $t$ counts the number of steps taken of Adam\n",
        "- $\\beta_1$ and $\\beta_2$ are hyperparameters that control the two exponentially weighted averages.\n",
        "- $\\alpha$ is the learning rate\n",
        "- $\\epsilon$ is a very small number to avoid dividing by zero\n",
        "\n",
        "As before, let's initialize the Adam variables $v, s$ which keep track of the past information."
      ]
    },
    {
      "cell_type": "code",
      "metadata": {
        "id": "V01-TLpqWnCG"
      },
      "source": [
        "def initialize_adam(parameters) :\n",
        "    \"\"\"\n",
        "    Initializes v and s as two python dictionaries with:\n",
        "                - keys: \"dW1\", \"db1\",\"dW2\", \"db2\" \n",
        "                - values: numpy arrays of zeros of the same shape as the corresponding gradients/parameters.\n",
        "    \n",
        "    Arguments:\n",
        "    parameters -- python dictionary containing your parameters.\n",
        "    \n",
        "    Returns: \n",
        "    v -- python dictionary that will contain the exponentially weighted average of the gradient.\n",
        "    s -- python dictionary that will contain the exponentially weighted average of the squared gradient.\n",
        "    \"\"\"\n",
        "    \n",
        "    v = {}\n",
        "    s = {}\n",
        "    \n",
        "    # Initialize v, s. Input: \"parameters\". Outputs: \"v, s\".\n",
        "    v[\"dW1\"] = np.zeros_like(parameters[\"W1\"])\n",
        "    v[\"db1\"] = np.zeros_like(parameters[\"b1\"])\n",
        "    v[\"dW2\"] = np.zeros_like(parameters[\"W2\"])\n",
        "    v[\"db2\"] = np.zeros_like(parameters[\"b2\"])\n",
        "\n",
        "    s[\"dW1\"] = np.zeros_like(parameters[\"W1\"])\n",
        "    s[\"db1\"] = np.zeros_like(parameters[\"b1\"])\n",
        "    s[\"dW2\"] = np.zeros_like(parameters[\"W2\"])\n",
        "    s[\"db2\"] = np.zeros_like(parameters[\"b2\"])\n",
        "\n",
        "    return v, s"
      ],
      "execution_count": null,
      "outputs": []
    },
    {
      "cell_type": "markdown",
      "metadata": {
        "id": "7KFa7474Xoyo"
      },
      "source": [
        "Now, implement the parameters update with Adam."
      ]
    },
    {
      "cell_type": "code",
      "metadata": {
        "id": "rTXiWjzPXpnk"
      },
      "source": [
        "def update_parameters_with_adam(parameters, grads, v, s, t, learning_rate=0.01,\n",
        "                                beta1=0.9, beta2=0.999, epsilon=1e-8):\n",
        "    \"\"\"\n",
        "    Update parameters using Adam\n",
        "    \n",
        "    Arguments:\n",
        "    parameters -- python dictionary containing your parameters\n",
        "    grads -- python dictionary containing gradients for your parameters\n",
        "    v -- Adam variable, moving average of the first gradient, python dictionary\n",
        "    s -- Adam variable, moving average of the squared gradient, python dictionary\n",
        "    learning_rate -- the learning rate, scalar.\n",
        "    beta1 -- Exponential decay hyperparameter for the first moment estimates \n",
        "    beta2 -- Exponential decay hyperparameter for the second moment estimates \n",
        "    epsilon -- hyperparameter preventing division by zero in Adam updates\n",
        "\n",
        "    Returns:\n",
        "    parameters -- python dictionary containing your updated parameters \n",
        "    v -- Adam variable, moving average of the first gradient, python dictionary\n",
        "    s -- Adam variable, moving average of the squared gradient, python dictionary\n",
        "    \"\"\"\n",
        "    \n",
        "    v_corrected = {}                         # Initializing first moment estimate, python dictionary\n",
        "    s_corrected = {}                         # Initializing second moment estimate, python dictionary\n",
        "    \n",
        "    # Perform Adam update on all parameters\n",
        "    # Moving average of the gradients. Inputs: \"v, grads, beta1\". Output: \"v\".\n",
        "    v[\"dW1\"] = beta1 * v[\"dW1\"] + (1 - beta1) * grads['dW1']\n",
        "    v[\"db1\"] = beta1 * v[\"db1\"] + (1 - beta1) * grads['db1']\n",
        "    v[\"dW2\"] = beta1 * v[\"dW2\"] + (1 - beta1) * grads['dW2']\n",
        "    v[\"db2\"] = beta1 * v[\"db2\"] + (1 - beta1) * grads['db2']\n",
        "        \n",
        "    # Compute bias-corrected first moment estimate. Inputs: \"v, beta1, t\". Output: \"v_corrected\".\n",
        "    v_corrected[\"dW1\"] = v[\"dW1\"] / (1 - np.power(beta1, t))\n",
        "    v_corrected[\"db1\"] = v[\"db1\"] / (1 - np.power(beta1, t))\n",
        "    v_corrected[\"dW2\"] = v[\"dW2\"] / (1 - np.power(beta1, t))\n",
        "    v_corrected[\"db2\"] = v[\"db2\"] / (1 - np.power(beta1, t))\n",
        "       \n",
        "    # Moving average of the squared gradients. Inputs: \"s, grads, beta2\". Output: \"s\".\n",
        "    s[\"dW1\"] = beta2 * s[\"dW1\"] + (1 - beta2) * np.power(grads['dW1'], 2)\n",
        "    s[\"db1\"] = beta2 * s[\"db1\"] + (1 - beta2) * np.power(grads['db1'], 2)\n",
        "    s[\"dW2\"] = beta2 * s[\"dW2\"] + (1 - beta2) * np.power(grads['dW2'], 2)\n",
        "    s[\"db2\"] = beta2 * s[\"db2\"] + (1 - beta2) * np.power(grads['db2'], 2)\n",
        "\n",
        "    # Compute bias-corrected second raw moment estimate. Inputs: \"s, beta2, t\". Output: \"s_corrected\".\n",
        "\n",
        "    s_corrected[\"dW1\"] = s[\"dW1\"] / (1 - np.power(beta2, t))\n",
        "    s_corrected[\"db1\"] = s[\"db1\"] / (1 - np.power(beta2, t))\n",
        "    s_corrected[\"dW2\"] = s[\"dW2\"] / (1 - np.power(beta2, t))\n",
        "    s_corrected[\"db2\"] = s[\"db2\"] / (1 - np.power(beta2, t))\n",
        "\n",
        "    # Update parameters. Inputs: \"parameters, learning_rate, v_corrected, s_corrected, epsilon\". Output: \"parameters\".\n",
        "    parameters[\"W1\"] = parameters[\"W1\"] - learning_rate * v_corrected[\"dW1\"] / np.sqrt(s_corrected[\"dW1\"] + epsilon)\n",
        "    parameters[\"b1\"] = parameters[\"b1\"] - learning_rate * v_corrected[\"db1\"] / np.sqrt(s_corrected[\"db1\"] + epsilon)\n",
        "    parameters[\"W2\"] = parameters[\"W2\"] - learning_rate * v_corrected[\"dW2\"] / np.sqrt(s_corrected[\"dW2\"] + epsilon)\n",
        "    parameters[\"b2\"] = parameters[\"b2\"] - learning_rate * v_corrected[\"db2\"] / np.sqrt(s_corrected[\"db2\"] + epsilon)\n",
        "\n",
        "    return parameters, v, s"
      ],
      "execution_count": null,
      "outputs": []
    },
    {
      "cell_type": "markdown",
      "metadata": {
        "id": "KjVm7e07Gfus"
      },
      "source": [
        "# 05-Model with different optimization algorithms"
      ]
    },
    {
      "cell_type": "code",
      "metadata": {
        "id": "SSH1UcHxrdtp"
      },
      "source": [
        "def model(X, Y, n_h, optimizer, learning_rate= 0.1, mini_batch_size=64, beta=0.9,\n",
        "          beta1=0.9, beta2=0.999, epsilon=1e-8, num_epochs= 20, print_cost=True):\n",
        "    \"\"\"\n",
        "    3-layer neural network model which can be run in different optimizer modes.\n",
        "    \n",
        "    Arguments:\n",
        "    X -- input data\n",
        "    Y -- true \"label\" vector\n",
        "    layers_dims -- python list, containing the size of each layer\n",
        "    learning_rate -- the learning rate, scalar.\n",
        "    mini_batch_size -- the size of a mini batch\n",
        "    beta -- Momentum hyperparameter\n",
        "    beta1 -- Exponential decay hyperparameter for the past gradients estimates \n",
        "    beta2 -- Exponential decay hyperparameter for the past squared gradients estimates \n",
        "    epsilon -- hyperparameter preventing division by zero in Adam updates\n",
        "    num_epochs -- number of epochs\n",
        "    print_cost -- True to print the cost \n",
        "\n",
        "    Returns:\n",
        "    parameters -- python dictionary containing your updated parameters \n",
        "    \"\"\"\n",
        "\n",
        "    costs = []                       # to keep track of the cost\n",
        "    t = 0                            # initializing the counter required for Adam update\n",
        "    gradients = []                   # gradients per epoch\n",
        "    n_x = X.shape[0]\n",
        "    n_y = Y.shape[0]\n",
        "    # Initialize parameters\n",
        "    parameters = initialize_parameters(n_x, n_h, n_y)\n",
        "\n",
        "    # Initialize the optimizer\n",
        "    if optimizer == \"gd\":\n",
        "        pass # no initialization required for gradient descent\n",
        "    elif optimizer == \"momentum\":\n",
        "        v = initialize_velocity(parameters)\n",
        "    elif optimizer == \"adam\":\n",
        "        v, s = initialize_adam(parameters)\n",
        "    \n",
        "    # Optimization loop\n",
        "    for i in range(num_epochs):\n",
        "        \n",
        "        minibatches = random_mini_batches(X, Y, mini_batch_size)\n",
        "\n",
        "        for minibatch in minibatches:\n",
        "\n",
        "            # Select a minibatch\n",
        "            (minibatch_X, minibatch_Y) = minibatch\n",
        "\n",
        "            # Forward propagation. Inputs: \"X, parameters\". Outputs: \"A2, cache\".\n",
        "            A2, cache = forward_propagation(X, parameters)\n",
        "            \n",
        "            # Cost function. Inputs: \"A2, Y, parameters\". Outputs: \"cost\".\n",
        "            cost = compute_cost(A2, Y, parameters)\n",
        "           \n",
        "           # Backpropagation. Inputs: \"parameters, cache, X, Y\". Outputs: \"grads\".\n",
        "            grads = backward_propagation(parameters, cache, X, Y)\n",
        "            \n",
        "            # Update parameters\n",
        "            if optimizer == \"gd\":\n",
        "                parameters = update_parameters(parameters, grads, learning_rate)\n",
        "            elif optimizer == \"momentum\":\n",
        "                parameters, v = update_parameters_with_momentum(parameters, grads, v, beta, learning_rate)\n",
        "            elif optimizer == \"adam\":\n",
        "                t = t + 1 # Adam counter\n",
        "                parameters, v, s = update_parameters_with_adam(parameters, grads, v, s,\n",
        "                                                               t, learning_rate, beta1, beta2,  epsilon)\n",
        "        \n",
        "        gradients.append([grads['dW1'], grads['dW2'], grads['db1'], grads['db2']])\n",
        "        if print_cost:\n",
        "            print(\"Cost after epoch %i: %f\" % (i, cost))\n",
        "            costs.append(cost)\n",
        "\n",
        "                \n",
        "    # plot the cost\n",
        "    plt.plot(costs)\n",
        "    plt.ylabel('cost')\n",
        "    plt.xlabel('epochs')\n",
        "    plt.title(\"Learning rate = \" + str(learning_rate))\n",
        "    plt.show()\n",
        "\n",
        "    return parameters, costs, gradients"
      ],
      "execution_count": null,
      "outputs": []
    },
    {
      "cell_type": "code",
      "metadata": {
        "id": "RRtP79Yb8SK_",
        "outputId": "e3746eb4-3068-4b4b-96c7-dd5632020d9a",
        "colab": {
          "base_uri": "https://localhost:8080/",
          "height": 635
        }
      },
      "source": [
        "parameters = model(X_train, y_train, n_h = 4, beta=0.9, optimizer=\"momentum\")"
      ],
      "execution_count": null,
      "outputs": [
        {
          "output_type": "stream",
          "text": [
            "Cost after epoch 0: 0.584021\n",
            "Cost after epoch 1: 0.517832\n",
            "Cost after epoch 2: 0.497935\n",
            "Cost after epoch 3: 0.486989\n",
            "Cost after epoch 4: 0.479612\n",
            "Cost after epoch 5: 0.474131\n",
            "Cost after epoch 6: 0.469694\n",
            "Cost after epoch 7: 0.466067\n",
            "Cost after epoch 8: 0.462972\n",
            "Cost after epoch 9: 0.460300\n",
            "Cost after epoch 10: 0.457927\n",
            "Cost after epoch 11: 0.455797\n",
            "Cost after epoch 12: 0.453861\n",
            "Cost after epoch 13: 0.452080\n",
            "Cost after epoch 14: 0.450376\n",
            "Cost after epoch 15: 0.448701\n",
            "Cost after epoch 16: 0.447044\n",
            "Cost after epoch 17: 0.445284\n",
            "Cost after epoch 18: 0.443355\n",
            "Cost after epoch 19: 0.441043\n"
          ],
          "name": "stdout"
        },
        {
          "output_type": "display_data",
          "data": {
            "image/png": "[encoded data removed]",
            "text/plain": [
              "<Figure size 432x288 with 1 Axes>"
            ]
          },
          "metadata": {
            "tags": []
          }
        }
      ]
    },
    {
      "cell_type": "code",
      "metadata": {
        "id": "dXlKfwzSLBgB",
        "outputId": "1fc6ab68-1ba4-4f30-9aba-e12a08e76cf2",
        "colab": {
          "base_uri": "https://localhost:8080/",
          "height": 635
        }
      },
      "source": [
        "parameters = model(X_train, y_train, learning_rate = 0.1, n_h = 4, optimizer=\"adam\")"
      ],
      "execution_count": null,
      "outputs": [
        {
          "output_type": "stream",
          "text": [
            "Cost after epoch 0: 1.453199\n",
            "Cost after epoch 1: 1.449830\n",
            "Cost after epoch 2: 1.451291\n",
            "Cost after epoch 3: 1.451958\n",
            "Cost after epoch 4: 1.449140\n",
            "Cost after epoch 5: 1.449319\n",
            "Cost after epoch 6: 1.458471\n",
            "Cost after epoch 7: 1.448479\n",
            "Cost after epoch 8: 1.457921\n",
            "Cost after epoch 9: 1.449281\n",
            "Cost after epoch 10: 1.474954\n",
            "Cost after epoch 11: 1.448607\n",
            "Cost after epoch 12: 1.448502\n",
            "Cost after epoch 13: 1.454827\n",
            "Cost after epoch 14: 1.451984\n",
            "Cost after epoch 15: 1.487578\n",
            "Cost after epoch 16: 1.450886\n",
            "Cost after epoch 17: 1.448374\n",
            "Cost after epoch 18: 1.456553\n",
            "Cost after epoch 19: 1.455893\n"
          ],
          "name": "stdout"
        },
        {
          "output_type": "display_data",
          "data": {
            "image/png": "[encoded data removed]",
            "text/plain": [
              "<Figure size 432x288 with 1 Axes>"
            ]
          },
          "metadata": {
            "tags": []
          }
        }
      ]
    },
    {
      "cell_type": "markdown",
      "metadata": {
        "id": "z05qkjuMLDOw"
      },
      "source": [
        "When $\\beta_1 = 0$ , adam optimizer becomes RMSprop"
      ]
    },
    {
      "cell_type": "code",
      "metadata": {
        "id": "cddq9ugpJpUc",
        "outputId": "85782614-32d6-4b25-b65f-c0a54dab4c0c",
        "colab": {
          "background_save": true,
          "base_uri": "https://localhost:8080/",
          "height": 289
        }
      },
      "source": [
        "parameters = model(X_train, y_train, n_h = 4, learning_rate= 0.1, mini_batch_size=64, beta=0.9,\n",
        "          beta1=0, beta2=0.9, optimizer=\"adam\")"
      ],
      "execution_count": null,
      "outputs": [
        {
          "output_type": "stream",
          "text": [
            "Cost after epoch 0: 2.163012\n",
            "Cost after epoch 1: 1.811483\n",
            "Cost after epoch 2: 1.807051\n",
            "Cost after epoch 3: 1.820496\n",
            "Cost after epoch 4: 1.822814\n",
            "Cost after epoch 5: 1.816322\n",
            "Cost after epoch 6: 1.851430\n",
            "Cost after epoch 7: 2.076641\n",
            "Cost after epoch 8: 1.779753\n",
            "Cost after epoch 9: 1.810285\n",
            "Cost after epoch 10: 1.772520\n",
            "Cost after epoch 11: 1.797026\n",
            "Cost after epoch 12: 1.921602\n",
            "Cost after epoch 13: 2.113433\n",
            "Cost after epoch 14: 1.994257\n",
            "Cost after epoch 15: 1.796781\n",
            "Cost after epoch 16: 1.840291\n",
            "Cost after epoch 17: 1.847565\n",
            "Cost after epoch 18: 1.849388\n",
            "Cost after epoch 19: 1.825749\n"
          ],
          "name": "stdout"
        },
        {
          "output_type": "display_data",
          "data": {
            "image/png": "[encoded data removed]",
            "text/plain": [
              "<Figure size 432x288 with 1 Axes>"
            ]
          },
          "metadata": {
            "tags": []
          }
        }
      ]
    },
    {
      "cell_type": "code",
      "metadata": {
        "id": "n_CPW_ae858R",
        "outputId": "3761e1e1-7557-4e43-a892-fca1fa36a974",
        "colab": {
          "background_save": true,
          "base_uri": "https://localhost:8080/"
        }
      },
      "source": [
        "parameters = model(X_train, y_train, n_h = 4,  mini_batch_size=128, learning_rate= 0.001,  beta=0.9,\n",
        "          beta1=0, beta2=0.9, optimizer=\"adam\")"
      ],
      "execution_count": null,
      "outputs": [
        {
          "output_type": "stream",
          "text": [
            "Cost after epoch 0: 0.605447\n",
            "Cost after epoch 1: 0.485888\n",
            "Cost after epoch 2: 0.455039\n",
            "Cost after epoch 3: 0.437966\n",
            "Cost after epoch 4: 0.426471\n",
            "Cost after epoch 5: 0.419440\n",
            "Cost after epoch 6: 0.414431\n",
            "Cost after epoch 7: 0.411123\n",
            "Cost after epoch 8: 0.409106\n",
            "Cost after epoch 9: 0.406916\n",
            "Cost after epoch 10: 0.405556\n",
            "Cost after epoch 11: 0.404031\n",
            "Cost after epoch 12: 0.402654\n",
            "Cost after epoch 13: 0.401189\n",
            "Cost after epoch 14: 0.399858\n",
            "Cost after epoch 15: 0.398767\n",
            "Cost after epoch 16: 0.397490\n",
            "Cost after epoch 17: 0.396462\n",
            "Cost after epoch 18: 0.395467\n",
            "Cost after epoch 19: 0.394695\n"
          ],
          "name": "stdout"
        },
        {
          "output_type": "display_data",
          "data": {
            "image/png": "[encoded data removed]",
            "text/plain": [
              "<Figure size 432x288 with 1 Axes>"
            ]
          },
          "metadata": {
            "tags": []
          }
        }
      ]
    },
    {
      "cell_type": "code",
      "metadata": {
        "id": "3bCGFZZQeauD",
        "outputId": "e38fc8b8-a851-4954-8567-10501d95f7f4",
        "colab": {
          "base_uri": "https://localhost:8080/",
          "height": 635
        }
      },
      "source": [
        "parameters = model(X_train, y_train, learning_rate = 0.001, mini_batch_size=128, n_h = 4, optimizer=\"adam\")"
      ],
      "execution_count": null,
      "outputs": [
        {
          "output_type": "stream",
          "text": [
            "Cost after epoch 0: 0.652625\n",
            "Cost after epoch 1: 0.538039\n",
            "Cost after epoch 2: 0.494766\n",
            "Cost after epoch 3: 0.466445\n",
            "Cost after epoch 4: 0.446931\n",
            "Cost after epoch 5: 0.434147\n",
            "Cost after epoch 6: 0.424947\n",
            "Cost after epoch 7: 0.418039\n",
            "Cost after epoch 8: 0.412807\n",
            "Cost after epoch 9: 0.408511\n",
            "Cost after epoch 10: 0.404447\n",
            "Cost after epoch 11: 0.401307\n",
            "Cost after epoch 12: 0.399088\n",
            "Cost after epoch 13: 0.397500\n",
            "Cost after epoch 14: 0.396359\n",
            "Cost after epoch 15: 0.395433\n",
            "Cost after epoch 16: 0.394425\n",
            "Cost after epoch 17: 0.392661\n",
            "Cost after epoch 18: 0.389971\n",
            "Cost after epoch 19: 0.387413\n"
          ],
          "name": "stdout"
        },
        {
          "output_type": "display_data",
          "data": {
            "image/png": "[encoded data removed]",
            "text/plain": [
              "<Figure size 432x288 with 1 Axes>"
            ]
          },
          "metadata": {
            "tags": [],
            "needs_background": "light"
          }
        }
      ]
    },
    {
      "cell_type": "code",
      "metadata": {
        "id": "QtXTwgVI1ZAO"
      },
      "source": [
        ""
      ],
      "execution_count": null,
      "outputs": []
    }
  ]
}